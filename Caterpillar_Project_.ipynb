{
  "nbformat": 4,
  "nbformat_minor": 0,
  "metadata": {
    "colab": {
      "provenance": [],
      "authorship_tag": "ABX9TyPfYcVkuE0+OA1R1Tnq7t6M",
      "include_colab_link": true
    },
    "kernelspec": {
      "name": "python3",
      "display_name": "Python 3"
    },
    "language_info": {
      "name": "python"
    }
  },
  "cells": [
    {
      "cell_type": "markdown",
      "metadata": {
        "id": "view-in-github",
        "colab_type": "text"
      },
      "source": [
        "<a href=\"https://colab.research.google.com/github/mdoghan/CaterpillarCustomerDashboard/blob/main/Caterpillar_Project_.ipynb\" target=\"_parent\"><img src=\"https://colab.research.google.com/assets/colab-badge.svg\" alt=\"Open In Colab\"/></a>"
      ]
    },
    {
      "cell_type": "markdown",
      "source": [
        "**Setting Up the Environment**"
      ],
      "metadata": {
        "id": "xjjL4G0m1SwR"
      }
    },
    {
      "cell_type": "code",
      "source": [
        "import pandas as pd\n",
        "import matplotlib.pyplot as plt"
      ],
      "metadata": {
        "id": "1KmTKObgOtjx"
      },
      "execution_count": null,
      "outputs": []
    },
    {
      "cell_type": "code",
      "source": [
        "import numpy as np\n"
      ],
      "metadata": {
        "id": "LSo6jUUbcd-M"
      },
      "execution_count": 10,
      "outputs": []
    },
    {
      "cell_type": "code",
      "source": [
        "import seaborn as sns"
      ],
      "metadata": {
        "id": "8SC0PQ4AmAzi"
      },
      "execution_count": 11,
      "outputs": []
    },
    {
      "cell_type": "code",
      "source": [
        "data = pd.read_csv('hmd_python.csv')\n"
      ],
      "metadata": {
        "id": "H_lI6EdLcIw-"
      },
      "execution_count": 12,
      "outputs": []
    },
    {
      "cell_type": "code",
      "source": [
        "from google.colab import files\n",
        "uploaded = files.upload()"
      ],
      "metadata": {
        "colab": {
          "base_uri": "https://localhost:8080/",
          "height": 74
        },
        "id": "qSx7mR1MwdHR",
        "outputId": "a5a147ea-ca70-4638-f1cc-6865f8d5cf5d"
      },
      "execution_count": null,
      "outputs": [
        {
          "output_type": "display_data",
          "data": {
            "text/plain": [
              "<IPython.core.display.HTML object>"
            ],
            "text/html": [
              "\n",
              "     <input type=\"file\" id=\"files-3cf00d77-2231-4179-945f-1cb66ea535ed\" name=\"files[]\" multiple disabled\n",
              "        style=\"border:none\" />\n",
              "     <output id=\"result-3cf00d77-2231-4179-945f-1cb66ea535ed\">\n",
              "      Upload widget is only available when the cell has been executed in the\n",
              "      current browser session. Please rerun this cell to enable.\n",
              "      </output>\n",
              "      <script>// Copyright 2017 Google LLC\n",
              "//\n",
              "// Licensed under the Apache License, Version 2.0 (the \"License\");\n",
              "// you may not use this file except in compliance with the License.\n",
              "// You may obtain a copy of the License at\n",
              "//\n",
              "//      http://www.apache.org/licenses/LICENSE-2.0\n",
              "//\n",
              "// Unless required by applicable law or agreed to in writing, software\n",
              "// distributed under the License is distributed on an \"AS IS\" BASIS,\n",
              "// WITHOUT WARRANTIES OR CONDITIONS OF ANY KIND, either express or implied.\n",
              "// See the License for the specific language governing permissions and\n",
              "// limitations under the License.\n",
              "\n",
              "/**\n",
              " * @fileoverview Helpers for google.colab Python module.\n",
              " */\n",
              "(function(scope) {\n",
              "function span(text, styleAttributes = {}) {\n",
              "  const element = document.createElement('span');\n",
              "  element.textContent = text;\n",
              "  for (const key of Object.keys(styleAttributes)) {\n",
              "    element.style[key] = styleAttributes[key];\n",
              "  }\n",
              "  return element;\n",
              "}\n",
              "\n",
              "// Max number of bytes which will be uploaded at a time.\n",
              "const MAX_PAYLOAD_SIZE = 100 * 1024;\n",
              "\n",
              "function _uploadFiles(inputId, outputId) {\n",
              "  const steps = uploadFilesStep(inputId, outputId);\n",
              "  const outputElement = document.getElementById(outputId);\n",
              "  // Cache steps on the outputElement to make it available for the next call\n",
              "  // to uploadFilesContinue from Python.\n",
              "  outputElement.steps = steps;\n",
              "\n",
              "  return _uploadFilesContinue(outputId);\n",
              "}\n",
              "\n",
              "// This is roughly an async generator (not supported in the browser yet),\n",
              "// where there are multiple asynchronous steps and the Python side is going\n",
              "// to poll for completion of each step.\n",
              "// This uses a Promise to block the python side on completion of each step,\n",
              "// then passes the result of the previous step as the input to the next step.\n",
              "function _uploadFilesContinue(outputId) {\n",
              "  const outputElement = document.getElementById(outputId);\n",
              "  const steps = outputElement.steps;\n",
              "\n",
              "  const next = steps.next(outputElement.lastPromiseValue);\n",
              "  return Promise.resolve(next.value.promise).then((value) => {\n",
              "    // Cache the last promise value to make it available to the next\n",
              "    // step of the generator.\n",
              "    outputElement.lastPromiseValue = value;\n",
              "    return next.value.response;\n",
              "  });\n",
              "}\n",
              "\n",
              "/**\n",
              " * Generator function which is called between each async step of the upload\n",
              " * process.\n",
              " * @param {string} inputId Element ID of the input file picker element.\n",
              " * @param {string} outputId Element ID of the output display.\n",
              " * @return {!Iterable<!Object>} Iterable of next steps.\n",
              " */\n",
              "function* uploadFilesStep(inputId, outputId) {\n",
              "  const inputElement = document.getElementById(inputId);\n",
              "  inputElement.disabled = false;\n",
              "\n",
              "  const outputElement = document.getElementById(outputId);\n",
              "  outputElement.innerHTML = '';\n",
              "\n",
              "  const pickedPromise = new Promise((resolve) => {\n",
              "    inputElement.addEventListener('change', (e) => {\n",
              "      resolve(e.target.files);\n",
              "    });\n",
              "  });\n",
              "\n",
              "  const cancel = document.createElement('button');\n",
              "  inputElement.parentElement.appendChild(cancel);\n",
              "  cancel.textContent = 'Cancel upload';\n",
              "  const cancelPromise = new Promise((resolve) => {\n",
              "    cancel.onclick = () => {\n",
              "      resolve(null);\n",
              "    };\n",
              "  });\n",
              "\n",
              "  // Wait for the user to pick the files.\n",
              "  const files = yield {\n",
              "    promise: Promise.race([pickedPromise, cancelPromise]),\n",
              "    response: {\n",
              "      action: 'starting',\n",
              "    }\n",
              "  };\n",
              "\n",
              "  cancel.remove();\n",
              "\n",
              "  // Disable the input element since further picks are not allowed.\n",
              "  inputElement.disabled = true;\n",
              "\n",
              "  if (!files) {\n",
              "    return {\n",
              "      response: {\n",
              "        action: 'complete',\n",
              "      }\n",
              "    };\n",
              "  }\n",
              "\n",
              "  for (const file of files) {\n",
              "    const li = document.createElement('li');\n",
              "    li.append(span(file.name, {fontWeight: 'bold'}));\n",
              "    li.append(span(\n",
              "        `(${file.type || 'n/a'}) - ${file.size} bytes, ` +\n",
              "        `last modified: ${\n",
              "            file.lastModifiedDate ? file.lastModifiedDate.toLocaleDateString() :\n",
              "                                    'n/a'} - `));\n",
              "    const percent = span('0% done');\n",
              "    li.appendChild(percent);\n",
              "\n",
              "    outputElement.appendChild(li);\n",
              "\n",
              "    const fileDataPromise = new Promise((resolve) => {\n",
              "      const reader = new FileReader();\n",
              "      reader.onload = (e) => {\n",
              "        resolve(e.target.result);\n",
              "      };\n",
              "      reader.readAsArrayBuffer(file);\n",
              "    });\n",
              "    // Wait for the data to be ready.\n",
              "    let fileData = yield {\n",
              "      promise: fileDataPromise,\n",
              "      response: {\n",
              "        action: 'continue',\n",
              "      }\n",
              "    };\n",
              "\n",
              "    // Use a chunked sending to avoid message size limits. See b/62115660.\n",
              "    let position = 0;\n",
              "    do {\n",
              "      const length = Math.min(fileData.byteLength - position, MAX_PAYLOAD_SIZE);\n",
              "      const chunk = new Uint8Array(fileData, position, length);\n",
              "      position += length;\n",
              "\n",
              "      const base64 = btoa(String.fromCharCode.apply(null, chunk));\n",
              "      yield {\n",
              "        response: {\n",
              "          action: 'append',\n",
              "          file: file.name,\n",
              "          data: base64,\n",
              "        },\n",
              "      };\n",
              "\n",
              "      let percentDone = fileData.byteLength === 0 ?\n",
              "          100 :\n",
              "          Math.round((position / fileData.byteLength) * 100);\n",
              "      percent.textContent = `${percentDone}% done`;\n",
              "\n",
              "    } while (position < fileData.byteLength);\n",
              "  }\n",
              "\n",
              "  // All done.\n",
              "  yield {\n",
              "    response: {\n",
              "      action: 'complete',\n",
              "    }\n",
              "  };\n",
              "}\n",
              "\n",
              "scope.google = scope.google || {};\n",
              "scope.google.colab = scope.google.colab || {};\n",
              "scope.google.colab._files = {\n",
              "  _uploadFiles,\n",
              "  _uploadFilesContinue,\n",
              "};\n",
              "})(self);\n",
              "</script> "
            ]
          },
          "metadata": {}
        },
        {
          "output_type": "stream",
          "name": "stdout",
          "text": [
            "Saving hmd_python.csv to hmd_python (1).csv\n"
          ]
        }
      ]
    },
    {
      "cell_type": "code",
      "source": [
        "\n",
        "# Basic data overview\n",
        "print(\"First five rows of the data:\")\n",
        "print(data.head())\n",
        "print(\"\\nSummary of the data:\")\n",
        "print(data.info())\n"
      ],
      "metadata": {
        "colab": {
          "base_uri": "https://localhost:8080/"
        },
        "id": "mFGKdLQekuH3",
        "outputId": "ba7f0ae8-0925-4b83-9f57-6bf3dd6b8383"
      },
      "execution_count": 81,
      "outputs": [
        {
          "output_type": "stream",
          "name": "stdout",
          "text": [
            "First five rows of the data:\n",
            "    Invoice   TransactionDate      DeliveryDate EmpKey  ChannelKey StoreID  \\\n",
            "0  E1072592  Tue Jan 01, 2002  Tue Jan 22, 2002    E04           9   IN288   \n",
            "1  E1072593  Tue Jan 01, 2002  Wed Jan 16, 2002    E12           9   BZ118   \n",
            "2  E1072594  Tue Jan 01, 2002  Mon Jan 21, 2002    E02           3   NM120   \n",
            "3  E1072595  Tue Jan 01, 2002  Thu Jan 31, 2002    E07           4   US213   \n",
            "4  E1072596  Tue Jan 01, 2002  Mon Jan 21, 2002    E03           3   US219   \n",
            "\n",
            "  ProductKey  CustomerKey  Qty   Cost  Price  \\\n",
            "0     FL-125           72    1   1472   1958   \n",
            "1     RP-243           47    1   6618   9265   \n",
            "2     RD-516           48    2  10672  12593   \n",
            "3     BZ-801           73    1   3013   4007   \n",
            "4     BZ-812           16    1   7396   9171   \n",
            "\n",
            "                         ProductDescription     Brand       Type        Color  \\\n",
            "0  ForkLifts-Bradshaw-HeavyDuty-YellowBlack  Bradshaw  HeavyDuty  YellowBlack   \n",
            "1    RoadPavers-Raygo-LightDuty-WhiteYellow     Raygo  LightDuty  WhiteYellow   \n",
            "2      RockDrillers-Tranter-LightDuty-White   Tranter  LightDuty        White   \n",
            "3           Bulldozers-JCB-HeavyDuty-Yellow       JCB  HeavyDuty       Yellow   \n",
            "4           Bulldozers-Case-HeavyDuty-White      Case  HeavyDuty        White   \n",
            "\n",
            "    CityName CountryName         Channel         CustomerName        Industry  \n",
            "0     Mumbai       India        Brochure              Skanska    Construction  \n",
            "1   SaoPaulo      Brazil        Brochure               LGCorp    Conglomerate  \n",
            "2   Windhoek     Namibia        Magazine               Lukoil         Oil&Gas  \n",
            "3  Nashville          US  CustomerReview  State Grid of China     Electricity  \n",
            "4    Detroit          US        Magazine              Cargill  FoodProcessing  \n",
            "\n",
            "Summary of the data:\n",
            "<class 'pandas.core.frame.DataFrame'>\n",
            "RangeIndex: 806485 entries, 0 to 806484\n",
            "Data columns (total 20 columns):\n",
            " #   Column              Non-Null Count   Dtype \n",
            "---  ------              --------------   ----- \n",
            " 0   Invoice             806485 non-null  object\n",
            " 1   TransactionDate     806485 non-null  object\n",
            " 2   DeliveryDate        806485 non-null  object\n",
            " 3   EmpKey              806485 non-null  object\n",
            " 4   ChannelKey          806485 non-null  int64 \n",
            " 5   StoreID             806485 non-null  object\n",
            " 6   ProductKey          806485 non-null  object\n",
            " 7   CustomerKey         806485 non-null  int64 \n",
            " 8   Qty                 806485 non-null  int64 \n",
            " 9   Cost                806485 non-null  int64 \n",
            " 10  Price               806485 non-null  int64 \n",
            " 11  ProductDescription  806485 non-null  object\n",
            " 12  Brand               806485 non-null  object\n",
            " 13  Type                806485 non-null  object\n",
            " 14  Color               806485 non-null  object\n",
            " 15  CityName            806485 non-null  object\n",
            " 16  CountryName         806485 non-null  object\n",
            " 17  Channel             806485 non-null  object\n",
            " 18  CustomerName        806485 non-null  object\n",
            " 19  Industry            806485 non-null  object\n",
            "dtypes: int64(5), object(15)\n",
            "memory usage: 123.1+ MB\n",
            "None\n"
          ]
        }
      ]
    },
    {
      "cell_type": "code",
      "source": [
        "# Descriptive statistics\n",
        "print(\"\\nDescriptive statistics:\")\n",
        "print(data.describe())"
      ],
      "metadata": {
        "colab": {
          "base_uri": "https://localhost:8080/"
        },
        "id": "WIv6p60Cn__E",
        "outputId": "60bf491c-89a0-4765-8d26-83a56dbdaffc"
      },
      "execution_count": 15,
      "outputs": [
        {
          "output_type": "stream",
          "name": "stdout",
          "text": [
            "\n",
            "Descriptive statistics:\n",
            "          ChannelKey    CustomerKey            Qty           Cost  \\\n",
            "count  806485.000000  806485.000000  806485.000000  806485.000000   \n",
            "mean        5.499831     852.437599       1.005514    6642.580132   \n",
            "std         2.873076     729.955726       0.555062    5103.335241   \n",
            "min         1.000000       1.000000       1.000000    1309.000000   \n",
            "25%         3.000000     293.000000       1.000000    3266.000000   \n",
            "50%         6.000000     647.000000       1.000000    5643.000000   \n",
            "75%         8.000000    1218.000000       1.000000    7967.000000   \n",
            "max        10.000000    4212.000000     100.000000   33029.000000   \n",
            "\n",
            "               Price  \n",
            "count  806485.000000  \n",
            "mean     8009.369146  \n",
            "std      6161.158810  \n",
            "min      1606.000000  \n",
            "25%      3881.000000  \n",
            "50%      6748.000000  \n",
            "75%      9765.000000  \n",
            "max     44731.000000  \n"
          ]
        }
      ]
    },
    {
      "cell_type": "markdown",
      "source": [
        "**Exploratory Data Analysis**"
      ],
      "metadata": {
        "id": "y-V2T6RM19cy"
      }
    },
    {
      "cell_type": "code",
      "source": [
        "# Number of Columns\n",
        "hmd_python.shape[1]\n"
      ],
      "metadata": {
        "colab": {
          "base_uri": "https://localhost:8080/"
        },
        "id": "4HdqeCZ52Mu-",
        "outputId": "caf5b9e0-f7e1-49f0-f2e4-c2fa3c911add"
      },
      "execution_count": 35,
      "outputs": [
        {
          "output_type": "execute_result",
          "data": {
            "text/plain": [
              "20"
            ]
          },
          "metadata": {},
          "execution_count": 35
        }
      ]
    },
    {
      "cell_type": "code",
      "source": [
        "# Name of Columns\n",
        "hmd_python.columns"
      ],
      "metadata": {
        "colab": {
          "base_uri": "https://localhost:8080/"
        },
        "id": "ZKt6KoXP4YL5",
        "outputId": "ebdc4739-ca8b-4734-d722-f46b654d7d4c"
      },
      "execution_count": 36,
      "outputs": [
        {
          "output_type": "execute_result",
          "data": {
            "text/plain": [
              "Index(['Invoice', 'TransactionDate', 'DeliveryDate', 'EmpKey', 'ChannelKey',\n",
              "       'StoreID', 'ProductKey', 'CustomerKey', 'Qty', 'Cost', 'Price',\n",
              "       'ProductDescription', 'Brand', 'Type', 'Color', 'CityName',\n",
              "       'CountryName', 'Channel', 'CustomerName', 'Industry'],\n",
              "      dtype='object')"
            ]
          },
          "metadata": {},
          "execution_count": 36
        }
      ]
    },
    {
      "cell_type": "code",
      "source": [
        "# Number of Rows\n",
        "hmd_python.shape[0]"
      ],
      "metadata": {
        "colab": {
          "base_uri": "https://localhost:8080/"
        },
        "id": "b-a-V4SJ4jy7",
        "outputId": "ae997d58-94d1-4062-dbf7-06174877229f"
      },
      "execution_count": 37,
      "outputs": [
        {
          "output_type": "execute_result",
          "data": {
            "text/plain": [
              "806485"
            ]
          },
          "metadata": {},
          "execution_count": 37
        }
      ]
    },
    {
      "cell_type": "code",
      "source": [
        "# Data types for columns\n",
        "hmd_python.info()"
      ],
      "metadata": {
        "colab": {
          "base_uri": "https://localhost:8080/"
        },
        "id": "28Kz12n74q0d",
        "outputId": "cd00e17d-284b-4628-8fbc-51cf367ef6f4"
      },
      "execution_count": 39,
      "outputs": [
        {
          "output_type": "stream",
          "name": "stdout",
          "text": [
            "<class 'pandas.core.frame.DataFrame'>\n",
            "RangeIndex: 806485 entries, 0 to 806484\n",
            "Data columns (total 20 columns):\n",
            " #   Column              Non-Null Count   Dtype \n",
            "---  ------              --------------   ----- \n",
            " 0   Invoice             806485 non-null  object\n",
            " 1   TransactionDate     806485 non-null  object\n",
            " 2   DeliveryDate        806485 non-null  object\n",
            " 3   EmpKey              806485 non-null  object\n",
            " 4   ChannelKey          806485 non-null  int64 \n",
            " 5   StoreID             806485 non-null  object\n",
            " 6   ProductKey          806485 non-null  object\n",
            " 7   CustomerKey         806485 non-null  int64 \n",
            " 8   Qty                 806485 non-null  int64 \n",
            " 9   Cost                806485 non-null  int64 \n",
            " 10  Price               806485 non-null  int64 \n",
            " 11  ProductDescription  806485 non-null  object\n",
            " 12  Brand               806485 non-null  object\n",
            " 13  Type                806485 non-null  object\n",
            " 14  Color               806485 non-null  object\n",
            " 15  CityName            806485 non-null  object\n",
            " 16  CountryName         806485 non-null  object\n",
            " 17  Channel             806485 non-null  object\n",
            " 18  CustomerName        806485 non-null  object\n",
            " 19  Industry            806485 non-null  object\n",
            "dtypes: int64(5), object(15)\n",
            "memory usage: 123.1+ MB\n"
          ]
        }
      ]
    },
    {
      "cell_type": "markdown",
      "source": [
        "**Part 1: Data Categorization and Cleaning**"
      ],
      "metadata": {
        "id": "vhN112Zf5B_O"
      }
    },
    {
      "cell_type": "code",
      "source": [
        "# Finding Duplicates\n",
        "hmd_python.duplicated().any()"
      ],
      "metadata": {
        "colab": {
          "base_uri": "https://localhost:8080/"
        },
        "id": "hEC-ZeIr5GSY",
        "outputId": "ecfdc409-daf4-467e-a413-ae6670d5b3d8"
      },
      "execution_count": 40,
      "outputs": [
        {
          "output_type": "execute_result",
          "data": {
            "text/plain": [
              "False"
            ]
          },
          "metadata": {},
          "execution_count": 40
        }
      ]
    },
    {
      "cell_type": "code",
      "source": [
        "# drop duplicates\n",
        "hmd_python.drop_duplicates(inplace=True)"
      ],
      "metadata": {
        "id": "WYPlxLVY5VTw"
      },
      "execution_count": 41,
      "outputs": []
    },
    {
      "cell_type": "code",
      "source": [
        "# Displaying shape prior to dropping duplicates\n",
        "hmd_python.shape"
      ],
      "metadata": {
        "colab": {
          "base_uri": "https://localhost:8080/"
        },
        "id": "aNtlWbMU5eAK",
        "outputId": "fd9e5ad6-4aaf-417c-bc10-c1a786f8bfc8"
      },
      "execution_count": 42,
      "outputs": [
        {
          "output_type": "execute_result",
          "data": {
            "text/plain": [
              "(806485, 20)"
            ]
          },
          "metadata": {},
          "execution_count": 42
        }
      ]
    },
    {
      "cell_type": "code",
      "source": [
        "# Displaying shape after dropping duplicates\n",
        "hmd_python.shape"
      ],
      "metadata": {
        "colab": {
          "base_uri": "https://localhost:8080/"
        },
        "id": "IxIFq93s5l9e",
        "outputId": "71e57e57-2dd6-400f-f5f0-cce991376106"
      },
      "execution_count": 43,
      "outputs": [
        {
          "output_type": "execute_result",
          "data": {
            "text/plain": [
              "(806485, 20)"
            ]
          },
          "metadata": {},
          "execution_count": 43
        }
      ]
    },
    {
      "cell_type": "code",
      "source": [
        "# Displaying numeric columns\n",
        "numeric_cols = hmd_python.select_dtypes(include=[np.number]).columns\n",
        "numeric_cols"
      ],
      "metadata": {
        "colab": {
          "base_uri": "https://localhost:8080/"
        },
        "id": "waV3SP0w5u8E",
        "outputId": "15db627d-9662-4a64-cbdf-0ecebd5c669e"
      },
      "execution_count": 44,
      "outputs": [
        {
          "output_type": "execute_result",
          "data": {
            "text/plain": [
              "Index(['ChannelKey', 'CustomerKey', 'Qty', 'Cost', 'Price'], dtype='object')"
            ]
          },
          "metadata": {},
          "execution_count": 44
        }
      ]
    },
    {
      "cell_type": "code",
      "source": [
        "# Display non-numeric columms\n",
        "cat_cols = hmd_python.select_dtypes(exclude=[np.number]).columns\n",
        "cat_cols"
      ],
      "metadata": {
        "colab": {
          "base_uri": "https://localhost:8080/"
        },
        "id": "zu9tLqnG6Qop",
        "outputId": "7dee99c5-aeaf-40ee-a350-4b4ced529dbd"
      },
      "execution_count": 45,
      "outputs": [
        {
          "output_type": "execute_result",
          "data": {
            "text/plain": [
              "Index(['Invoice', 'TransactionDate', 'DeliveryDate', 'EmpKey', 'StoreID',\n",
              "       'ProductKey', 'ProductDescription', 'Brand', 'Type', 'Color',\n",
              "       'CityName', 'CountryName', 'Channel', 'CustomerName', 'Industry'],\n",
              "      dtype='object')"
            ]
          },
          "metadata": {},
          "execution_count": 45
        }
      ]
    },
    {
      "cell_type": "code",
      "source": [
        "# Select numeric columns for analysis\n",
        "numeric_cols = ['ChannelKey', 'CustomerKey', 'Qty', 'Cost', 'Price']\n",
        "\n",
        "# Plot histograms to observe the distribution of numeric variables\n",
        "data[numeric_cols].hist(figsize=(14, 10), bins=20, color='skyblue', edgecolor='black')\n",
        "plt.suptitle('Histograms of Numeric Variables', fontsize=16)\n",
        "plt.show()"
      ],
      "metadata": {
        "colab": {
          "base_uri": "https://localhost:8080/",
          "height": 930
        },
        "id": "WXWL5_Bp0ztQ",
        "outputId": "c5898de1-b7e8-4c8a-d2d2-c02bda234019"
      },
      "execution_count": 103,
      "outputs": [
        {
          "output_type": "display_data",
          "data": {
            "text/plain": [
              "<Figure size 1400x1000 with 6 Axes>"
            ],
            "image/png": "[encoded data removed]"
          },
          "metadata": {}
        }
      ]
    },
    {
      "cell_type": "code",
      "source": [
        "# Find percentage of missing values for each column in the dataset\n",
        "for col in hmd_python.columns:\n",
        "  percentage_of_missing = np.mean(hmd_python[col].isnull())\n",
        "  print('{} - {}%' .format(col, round(percentage_of_missing*100)))"
      ],
      "metadata": {
        "colab": {
          "base_uri": "https://localhost:8080/"
        },
        "id": "uRNKnOlE6gx4",
        "outputId": "ab864cdb-17a1-4c74-e35e-6d9eb7aa2523"
      },
      "execution_count": 46,
      "outputs": [
        {
          "output_type": "stream",
          "name": "stdout",
          "text": [
            "Invoice - 0%\n",
            "TransactionDate - 0%\n",
            "DeliveryDate - 0%\n",
            "EmpKey - 0%\n",
            "ChannelKey - 0%\n",
            "StoreID - 0%\n",
            "ProductKey - 0%\n",
            "CustomerKey - 0%\n",
            "Qty - 0%\n",
            "Cost - 0%\n",
            "Price - 0%\n",
            "ProductDescription - 0%\n",
            "Brand - 0%\n",
            "Type - 0%\n",
            "Color - 0%\n",
            "CityName - 0%\n",
            "CountryName - 0%\n",
            "Channel - 0%\n",
            "CustomerName - 0%\n",
            "Industry - 0%\n"
          ]
        }
      ]
    },
    {
      "cell_type": "code",
      "source": [
        "# saving an imputed copy\n",
        "imputed_df = hmd_python"
      ],
      "metadata": {
        "id": "Tz9fwgyp7SKF"
      },
      "execution_count": 51,
      "outputs": []
    },
    {
      "cell_type": "code",
      "source": [
        "#impute missing values less than 2% with the median of the data in the numeric feature.\n",
        "for col in imputed_df.columns:\n",
        "   if col in imputed_df.select_dtypes(include=[np.number]).columns and percentage_of_missing < 0.02:\n",
        "    imputed_df[col] = imputed_df[col].fillna(imputed_df[col].median())\n",
        "\n",
        ""
      ],
      "metadata": {
        "id": "5B6aalJE7nQf"
      },
      "execution_count": 57,
      "outputs": []
    },
    {
      "cell_type": "code",
      "source": [
        "#impute missing values less than 5% with the mode of the data in the numeric feature.\n",
        "for col in imputed_df.columns:\n",
        "   if col in imputed_df.select_dtypes(include=[np.number]).columns and percentage_of_missing < 0.05:\n",
        "    imputed_df[col] = imputed_df[col].fillna(imputed_df[col].mode())\n",
        "\n"
      ],
      "metadata": {
        "id": "0HYyafoB97Ot"
      },
      "execution_count": 58,
      "outputs": []
    },
    {
      "cell_type": "code",
      "source": [
        "# Replace non-numeric missing values with the word '_NA_' for any feature with less than 5% missing values.\n",
        "for col in imputed_df.columns:\n",
        "    if col in imputed_df.select_dtypes(exclude=[np.number]).columns and percentage_of_missing < 0.05:\n",
        "      imputed_df[col] = imputed_df[col].fillna('_NA_')\n",
        ""
      ],
      "metadata": {
        "id": "frV4TPzm-YLK"
      },
      "execution_count": 63,
      "outputs": []
    },
    {
      "cell_type": "code",
      "source": [
        "# Replace all non-numeric missing values less than 5% with the most frequent value for the feature (mode).\n",
        "for col in imputed_df.columns:\n",
        "    if col in imputed_df.select_dtypes(exclude=[np.number]).columns and percentage_of_missing < 0.05:\n",
        "      imputed_df[col] = imputed_df[col].fillna(imputed_df[col].mode())"
      ],
      "metadata": {
        "id": "S6eXOyiT_qz9"
      },
      "execution_count": 64,
      "outputs": []
    },
    {
      "cell_type": "code",
      "source": [
        "# Replace any remaining missing numeric value with 0\n",
        "for col in imputed_df.columns:\n",
        "    if col in imputed_df.select_dtypes(include=[np.number]).columns:\n",
        "      imputed_df[col] = imputed_df[col].fillna(0)\n"
      ],
      "metadata": {
        "id": "OWnuA4c4_3cm"
      },
      "execution_count": 66,
      "outputs": []
    },
    {
      "cell_type": "code",
      "source": [
        "# Replace any remaining non-numeric value with the word '_MISSING_'\n",
        "for col in imputed_df.columns:\n",
        "    if col in imputed_df.select_dtypes(exclude=[np.number]).columns:\n",
        "        imputed_df[col] = imputed_df[col].fillna('_MISSING_')"
      ],
      "metadata": {
        "id": "6vHUskuVAydo"
      },
      "execution_count": 67,
      "outputs": []
    },
    {
      "cell_type": "code",
      "source": [
        "# Calcutes the upper and lower limits\n",
        "for col in imputed_df.select_dtypes(include=['number']).columns:\n",
        "    upper_limit = imputed_df[col].mean() + 3*imputed_df[col].std()\n",
        "    lower_limit = imputed_df[col].mean() - 3*imputed_df[col].std()\n",
        "    print(f\"Upper limit for '{col}':\", upper_limit)\n",
        "    print(f\"Lower limit for '{col}':\", lower_limit)"
      ],
      "metadata": {
        "colab": {
          "base_uri": "https://localhost:8080/"
        },
        "id": "SncVnuobA2jK",
        "outputId": "71e4d5ca-69d8-447b-ff84-3840fa9268ca"
      },
      "execution_count": 68,
      "outputs": [
        {
          "output_type": "stream",
          "name": "stdout",
          "text": [
            "Upper limit for 'ChannelKey': 14.119060081568211\n",
            "Lower limit for 'ChannelKey': -3.1193985875540626\n",
            "Upper limit for 'CustomerKey': 3042.304775985027\n",
            "Lower limit for 'CustomerKey': -1337.4295780582213\n",
            "Upper limit for 'Qty': 2.6706991791115415\n",
            "Lower limit for 'Qty': -0.6596710756750241\n",
            "Upper limit for 'Cost': 21952.585856645015\n",
            "Lower limit for 'Cost': -8667.42559203997\n",
            "Upper limit for 'Price': 26492.84557686955\n",
            "Lower limit for 'Price': -10474.107284154867\n"
          ]
        }
      ]
    },
    {
      "cell_type": "code",
      "source": [
        "# Find the outliers\n",
        "imputed_df.loc[(imputed_df[col] > upper_limit) | (imputed_df[col] < lower_limit)]"
      ],
      "metadata": {
        "colab": {
          "base_uri": "https://localhost:8080/",
          "height": 617
        },
        "id": "LRovbhIeBEAo",
        "outputId": "8fb9a14d-a91d-49d4-b19f-26ac02c66b0d"
      },
      "execution_count": 70,
      "outputs": [
        {
          "output_type": "execute_result",
          "data": {
            "text/plain": [
              "         Invoice   TransactionDate      DeliveryDate EmpKey  ChannelKey  \\\n",
              "38      E1072630  Tue Jan 01, 2002  Thu Jan 31, 2002    E08           7   \n",
              "132     E1072724  Tue Jan 01, 2002  Tue Jan 15, 2002    E07           3   \n",
              "182     E1072774  Tue Jan 01, 2002  Tue Jan 15, 2002    E09           3   \n",
              "203     E1072795  Tue Jan 01, 2002  Tue Jan 22, 2002    E11           6   \n",
              "236     E1072828  Wed Jan 02, 2002  Wed Jan 16, 2002    E04           9   \n",
              "...          ...               ...               ...    ...         ...   \n",
              "806055  E1878473  Sat Dec 29, 2012  Sat Jan 12, 2013    E06           3   \n",
              "806216  E1878634  Sat Dec 29, 2012  Mon Jan 28, 2013    E06           9   \n",
              "806343  E1878761  Mon Dec 31, 2012  Mon Jan 21, 2013    E14           2   \n",
              "806357  E1878775  Mon Dec 31, 2012  Mon Jan 21, 2013    E01           4   \n",
              "806419  E1878837  Mon Dec 31, 2012  Mon Jan 14, 2013    E12           2   \n",
              "\n",
              "       StoreID ProductKey  CustomerKey  Qty   Cost  Price  \\\n",
              "38       JP278     OR-894           89    1  23037  27414   \n",
              "132      SA206     OR-899           67    1  23584  29244   \n",
              "182      SW245     OR-898           89    1  33029  37323   \n",
              "203      UK130     OR-895           47    1  32414  44731   \n",
              "236      IT566     OR-896           27    1  27103  34963   \n",
              "...        ...        ...          ...  ...    ...    ...   \n",
              "806055   CH243     OR-896          570    1  27103  34963   \n",
              "806216   RU355     OR-894         2069    1  23037  27414   \n",
              "806343   NG455     OR-895         2375    1  32414  44731   \n",
              "806357   US212     OR-895          521    1  32414  44731   \n",
              "806419   NW181     OR-898         1471    1  33029  37323   \n",
              "\n",
              "                       ProductDescription       Brand       Type  Color  \\\n",
              "38            OilRigs-Radoil-Standard-Red      Radoil   Standard    Red   \n",
              "132     OilRigs-Polycrest-LightDuty-Green   Polycrest  LightDuty  Green   \n",
              "182       OilRigs-DGFritt-LightDuty-Black     DGFritt  LightDuty  Black   \n",
              "203       OilRigs-AtlasCopco-Standard-Red  AtlasCopco   Standard    Red   \n",
              "236       OilRigs-Dabuccino-HeavyDuty-Red   Dabuccino  HeavyDuty    Red   \n",
              "...                                   ...         ...        ...    ...   \n",
              "806055    OilRigs-Dabuccino-HeavyDuty-Red   Dabuccino  HeavyDuty    Red   \n",
              "806216        OilRigs-Radoil-Standard-Red      Radoil   Standard    Red   \n",
              "806343    OilRigs-AtlasCopco-Standard-Red  AtlasCopco   Standard    Red   \n",
              "806357    OilRigs-AtlasCopco-Standard-Red  AtlasCopco   Standard    Red   \n",
              "806419    OilRigs-DGFritt-LightDuty-Black     DGFritt  LightDuty  Black   \n",
              "\n",
              "           CityName  CountryName         Channel             CustomerName  \\\n",
              "38            Tokyo        Japan        RoadShow               Woolworths   \n",
              "132        Capetown  SouthAfrica        Magazine             Saudi Aramco   \n",
              "182          Zurich  Switzerland        Magazine               Woolworths   \n",
              "203       NewCastle           UK     SocialMedia                   LGCorp   \n",
              "236           Genoa        Italy        Brochure                      Eni   \n",
              "...             ...          ...             ...                      ...   \n",
              "806055       Taipei        China        Magazine            Adham Bescoby   \n",
              "806216  Chelyabinsk       Russia        Brochure        Karoline E Larsen   \n",
              "806343        Lagos      Nigeria  InternetReview      Fructuoso R Estrada   \n",
              "806357      Houston           US  CustomerReview  Madelle Oldfield-Cherry   \n",
              "806419      Drammen       Norway  InternetReview             Jikafutaku     \n",
              "\n",
              "            Industry  \n",
              "38            Retail  \n",
              "132          Oil&Gas  \n",
              "182           Retail  \n",
              "203     Conglomerate  \n",
              "236          Oil&Gas  \n",
              "...              ...  \n",
              "806055      Reseller  \n",
              "806216      Reseller  \n",
              "806343      Reseller  \n",
              "806357      Reseller  \n",
              "806419      Reseller  \n",
              "\n",
              "[20272 rows x 20 columns]"
            ],
            "text/html": [
              "\n",
              "  <div id=\"df-7070a356-ea48-44e9-af16-8015f42e46b4\" class=\"colab-df-container\">\n",
              "    <div>\n",
              "<style scoped>\n",
              "    .dataframe tbody tr th:only-of-type {\n",
              "        vertical-align: middle;\n",
              "    }\n",
              "\n",
              "    .dataframe tbody tr th {\n",
              "        vertical-align: top;\n",
              "    }\n",
              "\n",
              "    .dataframe thead th {\n",
              "        text-align: right;\n",
              "    }\n",
              "</style>\n",
              "<table border=\"1\" class=\"dataframe\">\n",
              "  <thead>\n",
              "    <tr style=\"text-align: right;\">\n",
              "      <th></th>\n",
              "      <th>Invoice</th>\n",
              "      <th>TransactionDate</th>\n",
              "      <th>DeliveryDate</th>\n",
              "      <th>EmpKey</th>\n",
              "      <th>ChannelKey</th>\n",
              "      <th>StoreID</th>\n",
              "      <th>ProductKey</th>\n",
              "      <th>CustomerKey</th>\n",
              "      <th>Qty</th>\n",
              "      <th>Cost</th>\n",
              "      <th>Price</th>\n",
              "      <th>ProductDescription</th>\n",
              "      <th>Brand</th>\n",
              "      <th>Type</th>\n",
              "      <th>Color</th>\n",
              "      <th>CityName</th>\n",
              "      <th>CountryName</th>\n",
              "      <th>Channel</th>\n",
              "      <th>CustomerName</th>\n",
              "      <th>Industry</th>\n",
              "    </tr>\n",
              "  </thead>\n",
              "  <tbody>\n",
              "    <tr>\n",
              "      <th>38</th>\n",
              "      <td>E1072630</td>\n",
              "      <td>Tue Jan 01, 2002</td>\n",
              "      <td>Thu Jan 31, 2002</td>\n",
              "      <td>E08</td>\n",
              "      <td>7</td>\n",
              "      <td>JP278</td>\n",
              "      <td>OR-894</td>\n",
              "      <td>89</td>\n",
              "      <td>1</td>\n",
              "      <td>23037</td>\n",
              "      <td>27414</td>\n",
              "      <td>OilRigs-Radoil-Standard-Red</td>\n",
              "      <td>Radoil</td>\n",
              "      <td>Standard</td>\n",
              "      <td>Red</td>\n",
              "      <td>Tokyo</td>\n",
              "      <td>Japan</td>\n",
              "      <td>RoadShow</td>\n",
              "      <td>Woolworths</td>\n",
              "      <td>Retail</td>\n",
              "    </tr>\n",
              "    <tr>\n",
              "      <th>132</th>\n",
              "      <td>E1072724</td>\n",
              "      <td>Tue Jan 01, 2002</td>\n",
              "      <td>Tue Jan 15, 2002</td>\n",
              "      <td>E07</td>\n",
              "      <td>3</td>\n",
              "      <td>SA206</td>\n",
              "      <td>OR-899</td>\n",
              "      <td>67</td>\n",
              "      <td>1</td>\n",
              "      <td>23584</td>\n",
              "      <td>29244</td>\n",
              "      <td>OilRigs-Polycrest-LightDuty-Green</td>\n",
              "      <td>Polycrest</td>\n",
              "      <td>LightDuty</td>\n",
              "      <td>Green</td>\n",
              "      <td>Capetown</td>\n",
              "      <td>SouthAfrica</td>\n",
              "      <td>Magazine</td>\n",
              "      <td>Saudi Aramco</td>\n",
              "      <td>Oil&amp;Gas</td>\n",
              "    </tr>\n",
              "    <tr>\n",
              "      <th>182</th>\n",
              "      <td>E1072774</td>\n",
              "      <td>Tue Jan 01, 2002</td>\n",
              "      <td>Tue Jan 15, 2002</td>\n",
              "      <td>E09</td>\n",
              "      <td>3</td>\n",
              "      <td>SW245</td>\n",
              "      <td>OR-898</td>\n",
              "      <td>89</td>\n",
              "      <td>1</td>\n",
              "      <td>33029</td>\n",
              "      <td>37323</td>\n",
              "      <td>OilRigs-DGFritt-LightDuty-Black</td>\n",
              "      <td>DGFritt</td>\n",
              "      <td>LightDuty</td>\n",
              "      <td>Black</td>\n",
              "      <td>Zurich</td>\n",
              "      <td>Switzerland</td>\n",
              "      <td>Magazine</td>\n",
              "      <td>Woolworths</td>\n",
              "      <td>Retail</td>\n",
              "    </tr>\n",
              "    <tr>\n",
              "      <th>203</th>\n",
              "      <td>E1072795</td>\n",
              "      <td>Tue Jan 01, 2002</td>\n",
              "      <td>Tue Jan 22, 2002</td>\n",
              "      <td>E11</td>\n",
              "      <td>6</td>\n",
              "      <td>UK130</td>\n",
              "      <td>OR-895</td>\n",
              "      <td>47</td>\n",
              "      <td>1</td>\n",
              "      <td>32414</td>\n",
              "      <td>44731</td>\n",
              "      <td>OilRigs-AtlasCopco-Standard-Red</td>\n",
              "      <td>AtlasCopco</td>\n",
              "      <td>Standard</td>\n",
              "      <td>Red</td>\n",
              "      <td>NewCastle</td>\n",
              "      <td>UK</td>\n",
              "      <td>SocialMedia</td>\n",
              "      <td>LGCorp</td>\n",
              "      <td>Conglomerate</td>\n",
              "    </tr>\n",
              "    <tr>\n",
              "      <th>236</th>\n",
              "      <td>E1072828</td>\n",
              "      <td>Wed Jan 02, 2002</td>\n",
              "      <td>Wed Jan 16, 2002</td>\n",
              "      <td>E04</td>\n",
              "      <td>9</td>\n",
              "      <td>IT566</td>\n",
              "      <td>OR-896</td>\n",
              "      <td>27</td>\n",
              "      <td>1</td>\n",
              "      <td>27103</td>\n",
              "      <td>34963</td>\n",
              "      <td>OilRigs-Dabuccino-HeavyDuty-Red</td>\n",
              "      <td>Dabuccino</td>\n",
              "      <td>HeavyDuty</td>\n",
              "      <td>Red</td>\n",
              "      <td>Genoa</td>\n",
              "      <td>Italy</td>\n",
              "      <td>Brochure</td>\n",
              "      <td>Eni</td>\n",
              "      <td>Oil&amp;Gas</td>\n",
              "    </tr>\n",
              "    <tr>\n",
              "      <th>...</th>\n",
              "      <td>...</td>\n",
              "      <td>...</td>\n",
              "      <td>...</td>\n",
              "      <td>...</td>\n",
              "      <td>...</td>\n",
              "      <td>...</td>\n",
              "      <td>...</td>\n",
              "      <td>...</td>\n",
              "      <td>...</td>\n",
              "      <td>...</td>\n",
              "      <td>...</td>\n",
              "      <td>...</td>\n",
              "      <td>...</td>\n",
              "      <td>...</td>\n",
              "      <td>...</td>\n",
              "      <td>...</td>\n",
              "      <td>...</td>\n",
              "      <td>...</td>\n",
              "      <td>...</td>\n",
              "      <td>...</td>\n",
              "    </tr>\n",
              "    <tr>\n",
              "      <th>806055</th>\n",
              "      <td>E1878473</td>\n",
              "      <td>Sat Dec 29, 2012</td>\n",
              "      <td>Sat Jan 12, 2013</td>\n",
              "      <td>E06</td>\n",
              "      <td>3</td>\n",
              "      <td>CH243</td>\n",
              "      <td>OR-896</td>\n",
              "      <td>570</td>\n",
              "      <td>1</td>\n",
              "      <td>27103</td>\n",
              "      <td>34963</td>\n",
              "      <td>OilRigs-Dabuccino-HeavyDuty-Red</td>\n",
              "      <td>Dabuccino</td>\n",
              "      <td>HeavyDuty</td>\n",
              "      <td>Red</td>\n",
              "      <td>Taipei</td>\n",
              "      <td>China</td>\n",
              "      <td>Magazine</td>\n",
              "      <td>Adham Bescoby</td>\n",
              "      <td>Reseller</td>\n",
              "    </tr>\n",
              "    <tr>\n",
              "      <th>806216</th>\n",
              "      <td>E1878634</td>\n",
              "      <td>Sat Dec 29, 2012</td>\n",
              "      <td>Mon Jan 28, 2013</td>\n",
              "      <td>E06</td>\n",
              "      <td>9</td>\n",
              "      <td>RU355</td>\n",
              "      <td>OR-894</td>\n",
              "      <td>2069</td>\n",
              "      <td>1</td>\n",
              "      <td>23037</td>\n",
              "      <td>27414</td>\n",
              "      <td>OilRigs-Radoil-Standard-Red</td>\n",
              "      <td>Radoil</td>\n",
              "      <td>Standard</td>\n",
              "      <td>Red</td>\n",
              "      <td>Chelyabinsk</td>\n",
              "      <td>Russia</td>\n",
              "      <td>Brochure</td>\n",
              "      <td>Karoline E Larsen</td>\n",
              "      <td>Reseller</td>\n",
              "    </tr>\n",
              "    <tr>\n",
              "      <th>806343</th>\n",
              "      <td>E1878761</td>\n",
              "      <td>Mon Dec 31, 2012</td>\n",
              "      <td>Mon Jan 21, 2013</td>\n",
              "      <td>E14</td>\n",
              "      <td>2</td>\n",
              "      <td>NG455</td>\n",
              "      <td>OR-895</td>\n",
              "      <td>2375</td>\n",
              "      <td>1</td>\n",
              "      <td>32414</td>\n",
              "      <td>44731</td>\n",
              "      <td>OilRigs-AtlasCopco-Standard-Red</td>\n",
              "      <td>AtlasCopco</td>\n",
              "      <td>Standard</td>\n",
              "      <td>Red</td>\n",
              "      <td>Lagos</td>\n",
              "      <td>Nigeria</td>\n",
              "      <td>InternetReview</td>\n",
              "      <td>Fructuoso R Estrada</td>\n",
              "      <td>Reseller</td>\n",
              "    </tr>\n",
              "    <tr>\n",
              "      <th>806357</th>\n",
              "      <td>E1878775</td>\n",
              "      <td>Mon Dec 31, 2012</td>\n",
              "      <td>Mon Jan 21, 2013</td>\n",
              "      <td>E01</td>\n",
              "      <td>4</td>\n",
              "      <td>US212</td>\n",
              "      <td>OR-895</td>\n",
              "      <td>521</td>\n",
              "      <td>1</td>\n",
              "      <td>32414</td>\n",
              "      <td>44731</td>\n",
              "      <td>OilRigs-AtlasCopco-Standard-Red</td>\n",
              "      <td>AtlasCopco</td>\n",
              "      <td>Standard</td>\n",
              "      <td>Red</td>\n",
              "      <td>Houston</td>\n",
              "      <td>US</td>\n",
              "      <td>CustomerReview</td>\n",
              "      <td>Madelle Oldfield-Cherry</td>\n",
              "      <td>Reseller</td>\n",
              "    </tr>\n",
              "    <tr>\n",
              "      <th>806419</th>\n",
              "      <td>E1878837</td>\n",
              "      <td>Mon Dec 31, 2012</td>\n",
              "      <td>Mon Jan 14, 2013</td>\n",
              "      <td>E12</td>\n",
              "      <td>2</td>\n",
              "      <td>NW181</td>\n",
              "      <td>OR-898</td>\n",
              "      <td>1471</td>\n",
              "      <td>1</td>\n",
              "      <td>33029</td>\n",
              "      <td>37323</td>\n",
              "      <td>OilRigs-DGFritt-LightDuty-Black</td>\n",
              "      <td>DGFritt</td>\n",
              "      <td>LightDuty</td>\n",
              "      <td>Black</td>\n",
              "      <td>Drammen</td>\n",
              "      <td>Norway</td>\n",
              "      <td>InternetReview</td>\n",
              "      <td>Jikafutaku</td>\n",
              "      <td>Reseller</td>\n",
              "    </tr>\n",
              "  </tbody>\n",
              "</table>\n",
              "<p>20272 rows × 20 columns</p>\n",
              "</div>\n",
              "    <div class=\"colab-df-buttons\">\n",
              "\n",
              "  <div class=\"colab-df-container\">\n",
              "    <button class=\"colab-df-convert\" onclick=\"convertToInteractive('df-7070a356-ea48-44e9-af16-8015f42e46b4')\"\n",
              "            title=\"Convert this dataframe to an interactive table.\"\n",
              "            style=\"display:none;\">\n",
              "\n",
              "  <svg xmlns=\"http://www.w3.org/2000/svg\" height=\"24px\" viewBox=\"0 -960 960 960\">\n",
              "    <path d=\"M120-120v-720h720v720H120Zm60-500h600v-160H180v160Zm220 220h160v-160H400v160Zm0 220h160v-160H400v160ZM180-400h160v-160H180v160Zm440 0h160v-160H620v160ZM180-180h160v-160H180v160Zm440 0h160v-160H620v160Z\"/>\n",
              "  </svg>\n",
              "    </button>\n",
              "\n",
              "  <style>\n",
              "    .colab-df-container {\n",
              "      display:flex;\n",
              "      gap: 12px;\n",
              "    }\n",
              "\n",
              "    .colab-df-convert {\n",
              "      background-color: #E8F0FE;\n",
              "      border: none;\n",
              "      border-radius: 50%;\n",
              "      cursor: pointer;\n",
              "      display: none;\n",
              "      fill: #1967D2;\n",
              "      height: 32px;\n",
              "      padding: 0 0 0 0;\n",
              "      width: 32px;\n",
              "    }\n",
              "\n",
              "    .colab-df-convert:hover {\n",
              "      background-color: #E2EBFA;\n",
              "      box-shadow: 0px 1px 2px rgba(60, 64, 67, 0.3), 0px 1px 3px 1px rgba(60, 64, 67, 0.15);\n",
              "      fill: #174EA6;\n",
              "    }\n",
              "\n",
              "    .colab-df-buttons div {\n",
              "      margin-bottom: 4px;\n",
              "    }\n",
              "\n",
              "    [theme=dark] .colab-df-convert {\n",
              "      background-color: #3B4455;\n",
              "      fill: #D2E3FC;\n",
              "    }\n",
              "\n",
              "    [theme=dark] .colab-df-convert:hover {\n",
              "      background-color: #434B5C;\n",
              "      box-shadow: 0px 1px 3px 1px rgba(0, 0, 0, 0.15);\n",
              "      filter: drop-shadow(0px 1px 2px rgba(0, 0, 0, 0.3));\n",
              "      fill: #FFFFFF;\n",
              "    }\n",
              "  </style>\n",
              "\n",
              "    <script>\n",
              "      const buttonEl =\n",
              "        document.querySelector('#df-7070a356-ea48-44e9-af16-8015f42e46b4 button.colab-df-convert');\n",
              "      buttonEl.style.display =\n",
              "        google.colab.kernel.accessAllowed ? 'block' : 'none';\n",
              "\n",
              "      async function convertToInteractive(key) {\n",
              "        const element = document.querySelector('#df-7070a356-ea48-44e9-af16-8015f42e46b4');\n",
              "        const dataTable =\n",
              "          await google.colab.kernel.invokeFunction('convertToInteractive',\n",
              "                                                    [key], {});\n",
              "        if (!dataTable) return;\n",
              "\n",
              "        const docLinkHtml = 'Like what you see? Visit the ' +\n",
              "          '<a target=\"_blank\" href=https://colab.research.google.com/notebooks/data_table.ipynb>data table notebook</a>'\n",
              "          + ' to learn more about interactive tables.';\n",
              "        element.innerHTML = '';\n",
              "        dataTable['output_type'] = 'display_data';\n",
              "        await google.colab.output.renderOutput(dataTable, element);\n",
              "        const docLink = document.createElement('div');\n",
              "        docLink.innerHTML = docLinkHtml;\n",
              "        element.appendChild(docLink);\n",
              "      }\n",
              "    </script>\n",
              "  </div>\n",
              "\n",
              "\n",
              "<div id=\"df-8ee7d494-ae9f-47dc-a975-283dd0d1ed31\">\n",
              "  <button class=\"colab-df-quickchart\" onclick=\"quickchart('df-8ee7d494-ae9f-47dc-a975-283dd0d1ed31')\"\n",
              "            title=\"Suggest charts\"\n",
              "            style=\"display:none;\">\n",
              "\n",
              "<svg xmlns=\"http://www.w3.org/2000/svg\" height=\"24px\"viewBox=\"0 0 24 24\"\n",
              "     width=\"24px\">\n",
              "    <g>\n",
              "        <path d=\"M19 3H5c-1.1 0-2 .9-2 2v14c0 1.1.9 2 2 2h14c1.1 0 2-.9 2-2V5c0-1.1-.9-2-2-2zM9 17H7v-7h2v7zm4 0h-2V7h2v10zm4 0h-2v-4h2v4z\"/>\n",
              "    </g>\n",
              "</svg>\n",
              "  </button>\n",
              "\n",
              "<style>\n",
              "  .colab-df-quickchart {\n",
              "      --bg-color: #E8F0FE;\n",
              "      --fill-color: #1967D2;\n",
              "      --hover-bg-color: #E2EBFA;\n",
              "      --hover-fill-color: #174EA6;\n",
              "      --disabled-fill-color: #AAA;\n",
              "      --disabled-bg-color: #DDD;\n",
              "  }\n",
              "\n",
              "  [theme=dark] .colab-df-quickchart {\n",
              "      --bg-color: #3B4455;\n",
              "      --fill-color: #D2E3FC;\n",
              "      --hover-bg-color: #434B5C;\n",
              "      --hover-fill-color: #FFFFFF;\n",
              "      --disabled-bg-color: #3B4455;\n",
              "      --disabled-fill-color: #666;\n",
              "  }\n",
              "\n",
              "  .colab-df-quickchart {\n",
              "    background-color: var(--bg-color);\n",
              "    border: none;\n",
              "    border-radius: 50%;\n",
              "    cursor: pointer;\n",
              "    display: none;\n",
              "    fill: var(--fill-color);\n",
              "    height: 32px;\n",
              "    padding: 0;\n",
              "    width: 32px;\n",
              "  }\n",
              "\n",
              "  .colab-df-quickchart:hover {\n",
              "    background-color: var(--hover-bg-color);\n",
              "    box-shadow: 0 1px 2px rgba(60, 64, 67, 0.3), 0 1px 3px 1px rgba(60, 64, 67, 0.15);\n",
              "    fill: var(--button-hover-fill-color);\n",
              "  }\n",
              "\n",
              "  .colab-df-quickchart-complete:disabled,\n",
              "  .colab-df-quickchart-complete:disabled:hover {\n",
              "    background-color: var(--disabled-bg-color);\n",
              "    fill: var(--disabled-fill-color);\n",
              "    box-shadow: none;\n",
              "  }\n",
              "\n",
              "  .colab-df-spinner {\n",
              "    border: 2px solid var(--fill-color);\n",
              "    border-color: transparent;\n",
              "    border-bottom-color: var(--fill-color);\n",
              "    animation:\n",
              "      spin 1s steps(1) infinite;\n",
              "  }\n",
              "\n",
              "  @keyframes spin {\n",
              "    0% {\n",
              "      border-color: transparent;\n",
              "      border-bottom-color: var(--fill-color);\n",
              "      border-left-color: var(--fill-color);\n",
              "    }\n",
              "    20% {\n",
              "      border-color: transparent;\n",
              "      border-left-color: var(--fill-color);\n",
              "      border-top-color: var(--fill-color);\n",
              "    }\n",
              "    30% {\n",
              "      border-color: transparent;\n",
              "      border-left-color: var(--fill-color);\n",
              "      border-top-color: var(--fill-color);\n",
              "      border-right-color: var(--fill-color);\n",
              "    }\n",
              "    40% {\n",
              "      border-color: transparent;\n",
              "      border-right-color: var(--fill-color);\n",
              "      border-top-color: var(--fill-color);\n",
              "    }\n",
              "    60% {\n",
              "      border-color: transparent;\n",
              "      border-right-color: var(--fill-color);\n",
              "    }\n",
              "    80% {\n",
              "      border-color: transparent;\n",
              "      border-right-color: var(--fill-color);\n",
              "      border-bottom-color: var(--fill-color);\n",
              "    }\n",
              "    90% {\n",
              "      border-color: transparent;\n",
              "      border-bottom-color: var(--fill-color);\n",
              "    }\n",
              "  }\n",
              "</style>\n",
              "\n",
              "  <script>\n",
              "    async function quickchart(key) {\n",
              "      const quickchartButtonEl =\n",
              "        document.querySelector('#' + key + ' button');\n",
              "      quickchartButtonEl.disabled = true;  // To prevent multiple clicks.\n",
              "      quickchartButtonEl.classList.add('colab-df-spinner');\n",
              "      try {\n",
              "        const charts = await google.colab.kernel.invokeFunction(\n",
              "            'suggestCharts', [key], {});\n",
              "      } catch (error) {\n",
              "        console.error('Error during call to suggestCharts:', error);\n",
              "      }\n",
              "      quickchartButtonEl.classList.remove('colab-df-spinner');\n",
              "      quickchartButtonEl.classList.add('colab-df-quickchart-complete');\n",
              "    }\n",
              "    (() => {\n",
              "      let quickchartButtonEl =\n",
              "        document.querySelector('#df-8ee7d494-ae9f-47dc-a975-283dd0d1ed31 button');\n",
              "      quickchartButtonEl.style.display =\n",
              "        google.colab.kernel.accessAllowed ? 'block' : 'none';\n",
              "    })();\n",
              "  </script>\n",
              "</div>\n",
              "\n",
              "    </div>\n",
              "  </div>\n"
            ],
            "application/vnd.google.colaboratory.intrinsic+json": {
              "type": "dataframe",
              "repr_error": "0"
            }
          },
          "metadata": {},
          "execution_count": 70
        }
      ]
    },
    {
      "cell_type": "code",
      "source": [
        "# Drop the outliers\n",
        "clean_df = imputed_df.loc[(imputed_df[col] < upper_limit) & (imputed_df[col] > lower_limit)]\n",
        "print('Before removing outliers:',len(imputed_df))\n",
        "print('After removing outliers:',len(clean_df))\n",
        "print('Outliers:', len(imputed_df)-len(clean_df))"
      ],
      "metadata": {
        "colab": {
          "base_uri": "https://localhost:8080/"
        },
        "id": "lBhT5LXHCBOt",
        "outputId": "589389af-e59d-434d-ed6f-483d93c2515e"
      },
      "execution_count": 71,
      "outputs": [
        {
          "output_type": "stream",
          "name": "stdout",
          "text": [
            "Before removing outliers: 806485\n",
            "After removing outliers: 786213\n",
            "Outliers: 20272\n"
          ]
        }
      ]
    },
    {
      "cell_type": "code",
      "source": [],
      "metadata": {
        "id": "csBM0_In_q_d"
      },
      "execution_count": null,
      "outputs": []
    },
    {
      "cell_type": "markdown",
      "source": [
        "**Part 2: Descriptive Statistics**\n",
        "\n"
      ],
      "metadata": {
        "id": "r9rKV4SMCMui"
      }
    },
    {
      "cell_type": "code",
      "source": [
        "# Descriptive statistics\n",
        "print(\"\\nDescriptive statistics:\")\n",
        "print(data.describe())\n"
      ],
      "metadata": {
        "colab": {
          "base_uri": "https://localhost:8080/"
        },
        "id": "Nvhx-GAIlIWn",
        "outputId": "50059b27-a69e-4831-8b2b-dd2f35bf4ed2"
      },
      "execution_count": 121,
      "outputs": [
        {
          "output_type": "stream",
          "name": "stdout",
          "text": [
            "\n",
            "Descriptive statistics:\n",
            "          ChannelKey    CustomerKey            Qty           Cost  \\\n",
            "count  806485.000000  806485.000000  806485.000000  806485.000000   \n",
            "mean        5.499831     852.437599       1.005514    6642.580132   \n",
            "std         2.873076     729.955726       0.555062    5103.335241   \n",
            "min         1.000000       1.000000       1.000000    1309.000000   \n",
            "25%         3.000000     293.000000       1.000000    3266.000000   \n",
            "50%         6.000000     647.000000       1.000000    5643.000000   \n",
            "75%         8.000000    1218.000000       1.000000    7967.000000   \n",
            "max        10.000000    4212.000000     100.000000   33029.000000   \n",
            "\n",
            "               Price         Profit       Revenue  \n",
            "count  806485.000000  806485.000000  8.064850e+05  \n",
            "mean     8009.369146    1366.789014  8.055614e+03  \n",
            "std      6161.158810    1368.965742  8.539120e+03  \n",
            "min      1606.000000   -2108.000000  1.606000e+03  \n",
            "25%      3881.000000     549.000000  3.881000e+03  \n",
            "50%      6748.000000     957.000000  6.748000e+03  \n",
            "75%      9765.000000    1813.000000  9.765000e+03  \n",
            "max     44731.000000   12317.000000  2.430464e+06  \n"
          ]
        }
      ]
    },
    {
      "cell_type": "code",
      "source": [
        "clean_df.describe()"
      ],
      "metadata": {
        "colab": {
          "base_uri": "https://localhost:8080/",
          "height": 300
        },
        "id": "U6WkhQ9qCROj",
        "outputId": "5dea6a8d-ca5c-423e-916c-687298cb15a1"
      },
      "execution_count": 73,
      "outputs": [
        {
          "output_type": "execute_result",
          "data": {
            "text/plain": [
              "          ChannelKey    CustomerKey            Qty           Cost  \\\n",
              "count  786213.000000  786213.000000  786213.000000  786213.000000   \n",
              "mean        5.500152     852.412935       1.005590    6092.898112   \n",
              "std         2.873258     729.909783       0.559639    3782.669337   \n",
              "min         1.000000       1.000000       1.000000    1309.000000   \n",
              "25%         3.000000     293.000000       1.000000    3261.000000   \n",
              "50%         6.000000     647.000000       1.000000    5531.000000   \n",
              "75%         8.000000    1217.000000       1.000000    7788.000000   \n",
              "max        10.000000    4212.000000     100.000000   24826.000000   \n",
              "\n",
              "               Price  \n",
              "count  786213.000000  \n",
              "mean     7309.682089  \n",
              "std      4315.503239  \n",
              "min      1606.000000  \n",
              "25%      3853.000000  \n",
              "50%      6648.000000  \n",
              "75%      9524.000000  \n",
              "max     26450.000000  "
            ],
            "text/html": [
              "\n",
              "  <div id=\"df-96851d44-0628-4e5a-9f27-1885d6ea1301\" class=\"colab-df-container\">\n",
              "    <div>\n",
              "<style scoped>\n",
              "    .dataframe tbody tr th:only-of-type {\n",
              "        vertical-align: middle;\n",
              "    }\n",
              "\n",
              "    .dataframe tbody tr th {\n",
              "        vertical-align: top;\n",
              "    }\n",
              "\n",
              "    .dataframe thead th {\n",
              "        text-align: right;\n",
              "    }\n",
              "</style>\n",
              "<table border=\"1\" class=\"dataframe\">\n",
              "  <thead>\n",
              "    <tr style=\"text-align: right;\">\n",
              "      <th></th>\n",
              "      <th>ChannelKey</th>\n",
              "      <th>CustomerKey</th>\n",
              "      <th>Qty</th>\n",
              "      <th>Cost</th>\n",
              "      <th>Price</th>\n",
              "    </tr>\n",
              "  </thead>\n",
              "  <tbody>\n",
              "    <tr>\n",
              "      <th>count</th>\n",
              "      <td>786213.000000</td>\n",
              "      <td>786213.000000</td>\n",
              "      <td>786213.000000</td>\n",
              "      <td>786213.000000</td>\n",
              "      <td>786213.000000</td>\n",
              "    </tr>\n",
              "    <tr>\n",
              "      <th>mean</th>\n",
              "      <td>5.500152</td>\n",
              "      <td>852.412935</td>\n",
              "      <td>1.005590</td>\n",
              "      <td>6092.898112</td>\n",
              "      <td>7309.682089</td>\n",
              "    </tr>\n",
              "    <tr>\n",
              "      <th>std</th>\n",
              "      <td>2.873258</td>\n",
              "      <td>729.909783</td>\n",
              "      <td>0.559639</td>\n",
              "      <td>3782.669337</td>\n",
              "      <td>4315.503239</td>\n",
              "    </tr>\n",
              "    <tr>\n",
              "      <th>min</th>\n",
              "      <td>1.000000</td>\n",
              "      <td>1.000000</td>\n",
              "      <td>1.000000</td>\n",
              "      <td>1309.000000</td>\n",
              "      <td>1606.000000</td>\n",
              "    </tr>\n",
              "    <tr>\n",
              "      <th>25%</th>\n",
              "      <td>3.000000</td>\n",
              "      <td>293.000000</td>\n",
              "      <td>1.000000</td>\n",
              "      <td>3261.000000</td>\n",
              "      <td>3853.000000</td>\n",
              "    </tr>\n",
              "    <tr>\n",
              "      <th>50%</th>\n",
              "      <td>6.000000</td>\n",
              "      <td>647.000000</td>\n",
              "      <td>1.000000</td>\n",
              "      <td>5531.000000</td>\n",
              "      <td>6648.000000</td>\n",
              "    </tr>\n",
              "    <tr>\n",
              "      <th>75%</th>\n",
              "      <td>8.000000</td>\n",
              "      <td>1217.000000</td>\n",
              "      <td>1.000000</td>\n",
              "      <td>7788.000000</td>\n",
              "      <td>9524.000000</td>\n",
              "    </tr>\n",
              "    <tr>\n",
              "      <th>max</th>\n",
              "      <td>10.000000</td>\n",
              "      <td>4212.000000</td>\n",
              "      <td>100.000000</td>\n",
              "      <td>24826.000000</td>\n",
              "      <td>26450.000000</td>\n",
              "    </tr>\n",
              "  </tbody>\n",
              "</table>\n",
              "</div>\n",
              "    <div class=\"colab-df-buttons\">\n",
              "\n",
              "  <div class=\"colab-df-container\">\n",
              "    <button class=\"colab-df-convert\" onclick=\"convertToInteractive('df-96851d44-0628-4e5a-9f27-1885d6ea1301')\"\n",
              "            title=\"Convert this dataframe to an interactive table.\"\n",
              "            style=\"display:none;\">\n",
              "\n",
              "  <svg xmlns=\"http://www.w3.org/2000/svg\" height=\"24px\" viewBox=\"0 -960 960 960\">\n",
              "    <path d=\"M120-120v-720h720v720H120Zm60-500h600v-160H180v160Zm220 220h160v-160H400v160Zm0 220h160v-160H400v160ZM180-400h160v-160H180v160Zm440 0h160v-160H620v160ZM180-180h160v-160H180v160Zm440 0h160v-160H620v160Z\"/>\n",
              "  </svg>\n",
              "    </button>\n",
              "\n",
              "  <style>\n",
              "    .colab-df-container {\n",
              "      display:flex;\n",
              "      gap: 12px;\n",
              "    }\n",
              "\n",
              "    .colab-df-convert {\n",
              "      background-color: #E8F0FE;\n",
              "      border: none;\n",
              "      border-radius: 50%;\n",
              "      cursor: pointer;\n",
              "      display: none;\n",
              "      fill: #1967D2;\n",
              "      height: 32px;\n",
              "      padding: 0 0 0 0;\n",
              "      width: 32px;\n",
              "    }\n",
              "\n",
              "    .colab-df-convert:hover {\n",
              "      background-color: #E2EBFA;\n",
              "      box-shadow: 0px 1px 2px rgba(60, 64, 67, 0.3), 0px 1px 3px 1px rgba(60, 64, 67, 0.15);\n",
              "      fill: #174EA6;\n",
              "    }\n",
              "\n",
              "    .colab-df-buttons div {\n",
              "      margin-bottom: 4px;\n",
              "    }\n",
              "\n",
              "    [theme=dark] .colab-df-convert {\n",
              "      background-color: #3B4455;\n",
              "      fill: #D2E3FC;\n",
              "    }\n",
              "\n",
              "    [theme=dark] .colab-df-convert:hover {\n",
              "      background-color: #434B5C;\n",
              "      box-shadow: 0px 1px 3px 1px rgba(0, 0, 0, 0.15);\n",
              "      filter: drop-shadow(0px 1px 2px rgba(0, 0, 0, 0.3));\n",
              "      fill: #FFFFFF;\n",
              "    }\n",
              "  </style>\n",
              "\n",
              "    <script>\n",
              "      const buttonEl =\n",
              "        document.querySelector('#df-96851d44-0628-4e5a-9f27-1885d6ea1301 button.colab-df-convert');\n",
              "      buttonEl.style.display =\n",
              "        google.colab.kernel.accessAllowed ? 'block' : 'none';\n",
              "\n",
              "      async function convertToInteractive(key) {\n",
              "        const element = document.querySelector('#df-96851d44-0628-4e5a-9f27-1885d6ea1301');\n",
              "        const dataTable =\n",
              "          await google.colab.kernel.invokeFunction('convertToInteractive',\n",
              "                                                    [key], {});\n",
              "        if (!dataTable) return;\n",
              "\n",
              "        const docLinkHtml = 'Like what you see? Visit the ' +\n",
              "          '<a target=\"_blank\" href=https://colab.research.google.com/notebooks/data_table.ipynb>data table notebook</a>'\n",
              "          + ' to learn more about interactive tables.';\n",
              "        element.innerHTML = '';\n",
              "        dataTable['output_type'] = 'display_data';\n",
              "        await google.colab.output.renderOutput(dataTable, element);\n",
              "        const docLink = document.createElement('div');\n",
              "        docLink.innerHTML = docLinkHtml;\n",
              "        element.appendChild(docLink);\n",
              "      }\n",
              "    </script>\n",
              "  </div>\n",
              "\n",
              "\n",
              "<div id=\"df-7922d484-ef61-40bf-b8e4-94e3434a14b9\">\n",
              "  <button class=\"colab-df-quickchart\" onclick=\"quickchart('df-7922d484-ef61-40bf-b8e4-94e3434a14b9')\"\n",
              "            title=\"Suggest charts\"\n",
              "            style=\"display:none;\">\n",
              "\n",
              "<svg xmlns=\"http://www.w3.org/2000/svg\" height=\"24px\"viewBox=\"0 0 24 24\"\n",
              "     width=\"24px\">\n",
              "    <g>\n",
              "        <path d=\"M19 3H5c-1.1 0-2 .9-2 2v14c0 1.1.9 2 2 2h14c1.1 0 2-.9 2-2V5c0-1.1-.9-2-2-2zM9 17H7v-7h2v7zm4 0h-2V7h2v10zm4 0h-2v-4h2v4z\"/>\n",
              "    </g>\n",
              "</svg>\n",
              "  </button>\n",
              "\n",
              "<style>\n",
              "  .colab-df-quickchart {\n",
              "      --bg-color: #E8F0FE;\n",
              "      --fill-color: #1967D2;\n",
              "      --hover-bg-color: #E2EBFA;\n",
              "      --hover-fill-color: #174EA6;\n",
              "      --disabled-fill-color: #AAA;\n",
              "      --disabled-bg-color: #DDD;\n",
              "  }\n",
              "\n",
              "  [theme=dark] .colab-df-quickchart {\n",
              "      --bg-color: #3B4455;\n",
              "      --fill-color: #D2E3FC;\n",
              "      --hover-bg-color: #434B5C;\n",
              "      --hover-fill-color: #FFFFFF;\n",
              "      --disabled-bg-color: #3B4455;\n",
              "      --disabled-fill-color: #666;\n",
              "  }\n",
              "\n",
              "  .colab-df-quickchart {\n",
              "    background-color: var(--bg-color);\n",
              "    border: none;\n",
              "    border-radius: 50%;\n",
              "    cursor: pointer;\n",
              "    display: none;\n",
              "    fill: var(--fill-color);\n",
              "    height: 32px;\n",
              "    padding: 0;\n",
              "    width: 32px;\n",
              "  }\n",
              "\n",
              "  .colab-df-quickchart:hover {\n",
              "    background-color: var(--hover-bg-color);\n",
              "    box-shadow: 0 1px 2px rgba(60, 64, 67, 0.3), 0 1px 3px 1px rgba(60, 64, 67, 0.15);\n",
              "    fill: var(--button-hover-fill-color);\n",
              "  }\n",
              "\n",
              "  .colab-df-quickchart-complete:disabled,\n",
              "  .colab-df-quickchart-complete:disabled:hover {\n",
              "    background-color: var(--disabled-bg-color);\n",
              "    fill: var(--disabled-fill-color);\n",
              "    box-shadow: none;\n",
              "  }\n",
              "\n",
              "  .colab-df-spinner {\n",
              "    border: 2px solid var(--fill-color);\n",
              "    border-color: transparent;\n",
              "    border-bottom-color: var(--fill-color);\n",
              "    animation:\n",
              "      spin 1s steps(1) infinite;\n",
              "  }\n",
              "\n",
              "  @keyframes spin {\n",
              "    0% {\n",
              "      border-color: transparent;\n",
              "      border-bottom-color: var(--fill-color);\n",
              "      border-left-color: var(--fill-color);\n",
              "    }\n",
              "    20% {\n",
              "      border-color: transparent;\n",
              "      border-left-color: var(--fill-color);\n",
              "      border-top-color: var(--fill-color);\n",
              "    }\n",
              "    30% {\n",
              "      border-color: transparent;\n",
              "      border-left-color: var(--fill-color);\n",
              "      border-top-color: var(--fill-color);\n",
              "      border-right-color: var(--fill-color);\n",
              "    }\n",
              "    40% {\n",
              "      border-color: transparent;\n",
              "      border-right-color: var(--fill-color);\n",
              "      border-top-color: var(--fill-color);\n",
              "    }\n",
              "    60% {\n",
              "      border-color: transparent;\n",
              "      border-right-color: var(--fill-color);\n",
              "    }\n",
              "    80% {\n",
              "      border-color: transparent;\n",
              "      border-right-color: var(--fill-color);\n",
              "      border-bottom-color: var(--fill-color);\n",
              "    }\n",
              "    90% {\n",
              "      border-color: transparent;\n",
              "      border-bottom-color: var(--fill-color);\n",
              "    }\n",
              "  }\n",
              "</style>\n",
              "\n",
              "  <script>\n",
              "    async function quickchart(key) {\n",
              "      const quickchartButtonEl =\n",
              "        document.querySelector('#' + key + ' button');\n",
              "      quickchartButtonEl.disabled = true;  // To prevent multiple clicks.\n",
              "      quickchartButtonEl.classList.add('colab-df-spinner');\n",
              "      try {\n",
              "        const charts = await google.colab.kernel.invokeFunction(\n",
              "            'suggestCharts', [key], {});\n",
              "      } catch (error) {\n",
              "        console.error('Error during call to suggestCharts:', error);\n",
              "      }\n",
              "      quickchartButtonEl.classList.remove('colab-df-spinner');\n",
              "      quickchartButtonEl.classList.add('colab-df-quickchart-complete');\n",
              "    }\n",
              "    (() => {\n",
              "      let quickchartButtonEl =\n",
              "        document.querySelector('#df-7922d484-ef61-40bf-b8e4-94e3434a14b9 button');\n",
              "      quickchartButtonEl.style.display =\n",
              "        google.colab.kernel.accessAllowed ? 'block' : 'none';\n",
              "    })();\n",
              "  </script>\n",
              "</div>\n",
              "\n",
              "    </div>\n",
              "  </div>\n"
            ],
            "application/vnd.google.colaboratory.intrinsic+json": {
              "type": "dataframe",
              "summary": "{\n  \"name\": \"clean_df\",\n  \"rows\": 8,\n  \"fields\": [\n    {\n      \"column\": \"ChannelKey\",\n      \"properties\": {\n        \"dtype\": \"number\",\n        \"std\": 277966.4347591629,\n        \"min\": 1.0,\n        \"max\": 786213.0,\n        \"num_unique_values\": 8,\n        \"samples\": [\n          5.500151994434078,\n          6.0,\n          786213.0\n        ],\n        \"semantic_type\": \"\",\n        \"description\": \"\"\n      }\n    },\n    {\n      \"column\": \"CustomerKey\",\n      \"properties\": {\n        \"dtype\": \"number\",\n        \"std\": 277569.69453276554,\n        \"min\": 1.0,\n        \"max\": 786213.0,\n        \"num_unique_values\": 8,\n        \"samples\": [\n          852.412935171512,\n          647.0,\n          786213.0\n        ],\n        \"semantic_type\": \"\",\n        \"description\": \"\"\n      }\n    },\n    {\n      \"column\": \"Qty\",\n      \"properties\": {\n        \"dtype\": \"number\",\n        \"std\": 277962.94219124777,\n        \"min\": 0.5596391444735273,\n        \"max\": 786213.0,\n        \"num_unique_values\": 5,\n        \"samples\": [\n          1.0055900881822102,\n          100.0,\n          0.5596391444735273\n        ],\n        \"semantic_type\": \"\",\n        \"description\": \"\"\n      }\n    },\n    {\n      \"column\": \"Cost\",\n      \"properties\": {\n        \"dtype\": \"number\",\n        \"std\": 275409.64503577165,\n        \"min\": 1309.0,\n        \"max\": 786213.0,\n        \"num_unique_values\": 8,\n        \"samples\": [\n          6092.89811158045,\n          5531.0,\n          786213.0\n        ],\n        \"semantic_type\": \"\",\n        \"description\": \"\"\n      }\n    },\n    {\n      \"column\": \"Price\",\n      \"properties\": {\n        \"dtype\": \"number\",\n        \"std\": 275060.37199685094,\n        \"min\": 1606.0,\n        \"max\": 786213.0,\n        \"num_unique_values\": 8,\n        \"samples\": [\n          7309.682088696066,\n          6648.0,\n          786213.0\n        ],\n        \"semantic_type\": \"\",\n        \"description\": \"\"\n      }\n    }\n  ]\n}"
            }
          },
          "metadata": {},
          "execution_count": 73
        }
      ]
    },
    {
      "cell_type": "markdown",
      "source": [],
      "metadata": {
        "id": "GeKf5PmjMyIS"
      }
    },
    {
      "cell_type": "code",
      "source": [
        "df = pd.DataFrame(data)"
      ],
      "metadata": {
        "id": "IGt5xR_8IirK"
      },
      "execution_count": 79,
      "outputs": []
    },
    {
      "cell_type": "code",
      "source": [
        "# Create a sale column\n",
        "imputed_df['sales'] = imputed_df['Qty'] * imputed_df['Price']\n"
      ],
      "metadata": {
        "id": "ttjxKC_5MzOF"
      },
      "execution_count": 93,
      "outputs": []
    },
    {
      "cell_type": "code",
      "source": [
        "# Create a Profit column\n",
        "imputed_df['profit'] = df['sales'] - df['Cost']"
      ],
      "metadata": {
        "id": "iD0FsLxHCqZs"
      },
      "execution_count": 95,
      "outputs": []
    },
    {
      "cell_type": "code",
      "source": [
        "# Grouping the data by 'Brand' and summarizing 'Sales'\n",
        "Brand_df = imputed_df.groupby('Brand')['sales'].agg(['mean', 'median', 'std']).round(2)\n",
        "\n",
        "# Print summary statistics of 'Sales' by 'Brand'\n",
        "print(\"Summary statistics of Sales by Brand:\")\n",
        "print(Brand_df)"
      ],
      "metadata": {
        "colab": {
          "base_uri": "https://localhost:8080/"
        },
        "id": "0goxXaJ4M5Zf",
        "outputId": "2787278e-ac20-4c55-f11a-a99d56240eb1"
      },
      "execution_count": 92,
      "outputs": [
        {
          "output_type": "stream",
          "name": "stdout",
          "text": [
            "Summary statistics of Sales by Brand:\n",
            "                   mean   median       std\n",
            "Brand                                     \n",
            "AFM             7491.69   7410.0   4309.55\n",
            "Akkerman        7920.87   3500.0   4506.78\n",
            "Allatt         10465.25  10102.0  14982.45\n",
            "AllisChalmers  13327.00  13327.0      0.00\n",
            "Ascom           1649.99   1649.0     57.16\n",
            "...                 ...      ...       ...\n",
            "Wirtgen         6145.13   7205.0   5759.79\n",
            "Wylie           4194.00   4194.0      0.00\n",
            "Xuzhou          6593.91   6592.0    112.23\n",
            "Zeeco          26561.58  25856.0  41190.26\n",
            "Zeppelin        4782.00   4607.0   7809.74\n",
            "\n",
            "[163 rows x 3 columns]\n"
          ]
        }
      ]
    },
    {
      "cell_type": "code",
      "source": [
        "# Most frequent value for each non-numeric feature\n",
        "for col in cat_cols:\n",
        "    most_freq_value= imputed_df[col].mode()[0]\n",
        "    print(f\"Column: {col}\")\n",
        "    print(f\"Most frequent value: {most_freq_value}\")"
      ],
      "metadata": {
        "colab": {
          "base_uri": "https://localhost:8080/"
        },
        "id": "tH6btTH1Ofuq",
        "outputId": "41d03f35-f356-4e70-8161-52c3e58ab18e"
      },
      "execution_count": 96,
      "outputs": [
        {
          "output_type": "stream",
          "name": "stdout",
          "text": [
            "Column: Invoice\n",
            "Most frequent value: E1514517\n",
            "Column: TransactionDate\n",
            "Most frequent value: Sat Sep 15, 2012\n",
            "Column: DeliveryDate\n",
            "Most frequent value: Thu Jan 18, 2007\n",
            "Column: EmpKey\n",
            "Most frequent value: E03\n",
            "Column: StoreID\n",
            "Most frequent value: FR239\n",
            "Column: ProductKey\n",
            "Most frequent value: EM-693\n",
            "Column: ProductDescription\n",
            "Most frequent value: EarthMovers-Noram-LightDuty-Black\n",
            "Column: Brand\n",
            "Most frequent value: Caterpillar\n",
            "Column: Type\n",
            "Most frequent value: LightDuty\n",
            "Column: Color\n",
            "Most frequent value: White\n",
            "Column: CityName\n",
            "Most frequent value: Brordeaux\n",
            "Column: CountryName\n",
            "Most frequent value: US\n",
            "Column: Channel\n",
            "Most frequent value: SocialMedia\n",
            "Column: CustomerName\n",
            "Most frequent value: Walmart\n",
            "Column: Industry\n",
            "Most frequent value: Reseller\n"
          ]
        }
      ]
    },
    {
      "cell_type": "code",
      "source": [
        "# The unique values for each non-numeric feature\n",
        "for col in cat_cols:\n",
        "    unique_values = imputed_df[col].unique()\n",
        "    print(F\"Unique values for column '{col}': {unique_values}\")"
      ],
      "metadata": {
        "colab": {
          "base_uri": "https://localhost:8080/"
        },
        "id": "OWVsyM4KOrAN",
        "outputId": "ac312e0c-47a8-4ea7-b0cd-1ebc4ec92009"
      },
      "execution_count": 97,
      "outputs": [
        {
          "output_type": "stream",
          "name": "stdout",
          "text": [
            "Unique values for column 'Invoice': ['E1072592' 'E1072593' 'E1072594' ... 'E1878900' 'E1878901' 'E1878902']\n",
            "Unique values for column 'TransactionDate': ['Tue Jan 01, 2002' 'Wed Jan 02, 2002' 'Thu Jan 03, 2002' ...\n",
            " 'Mon Dec 31, 2012' 'Tue Jan 01, 2013' 'Wed Jan 02, 2013']\n",
            "Unique values for column 'DeliveryDate': ['Tue Jan 22, 2002' 'Wed Jan 16, 2002' 'Mon Jan 21, 2002' ...\n",
            " 'Wed Jan 30, 2013' 'Fri Feb 01, 2013' 'Thu Jan 31, 2013']\n",
            "Unique values for column 'EmpKey': ['E04' 'E12' 'E02' 'E07' 'E03' 'E13' 'E09' 'E06' 'E10' 'E01' 'E15' 'E14'\n",
            " 'E08' 'E11' 'E05']\n",
            "Unique values for column 'StoreID': ['IN288' 'BZ118' 'NM120' 'US213' 'US219' 'JP278' 'NT780' 'OC712' 'SH120'\n",
            " 'US215' 'VZ310' 'US211' 'AN566' 'IN487' 'GR443' 'UK130' 'OC694' 'SA208'\n",
            " 'SW245' 'UK128' 'OC714' 'OC689' 'GR445' 'US214' 'UK129' 'KN732' 'NT781'\n",
            " 'CH243' 'FR787' 'CH222' 'UK121' 'NT779' 'OC693' 'CG256' 'US212' 'BW288'\n",
            " 'TW992' 'IT566' 'US217' 'UA664' 'MX811' 'CH232' 'UA665' 'EH398' 'RU356'\n",
            " 'TW900' 'BZ242' 'US218' 'OC691' 'JP236' 'KO221' 'NW181' 'SW244' 'GH986'\n",
            " 'OC690' 'US216' 'NT778' 'RW908' 'RU367' 'EG279' 'TU989' 'VZ342' 'FR239'\n",
            " 'TZ212' 'UA120' 'SA206' 'IN489' 'CH332' 'IN488' 'RU355' 'NG455' 'KW100'\n",
            " 'IT576' 'MX812' 'OC692' 'OC688' 'NW182' 'GN600' 'KO222' 'FR211' 'KN787'\n",
            " 'UA662' 'GR231']\n",
            "Unique values for column 'ProductKey': ['FL-125' 'RP-243' 'RD-516' 'BZ-801' 'BZ-812' 'RP-240' 'WT-220' 'WT-222'\n",
            " 'EM-695' 'TB-250' 'RD-511' 'MT-470' 'TB-247' 'TB-244' 'TB-252' 'EM-701'\n",
            " 'WT-219' 'TR-666' 'OR-897' 'TB-254' 'CR-109' 'IB-411' 'MT-479' 'DT-806'\n",
            " 'EX-201' 'MT-472' 'EM-691' 'RD-518' 'FT-302' 'FT-304' 'MT-477' 'CR-107'\n",
            " 'EX-204' 'CR-108' 'OR-894' 'RP-237' 'DT-808' 'FT-306' 'TR-668' 'HV-523'\n",
            " 'TR-671' 'RP-238' 'HV-521' 'TC-123' 'CT-721' 'MT-474' 'EM-697' 'LC-209'\n",
            " 'TR-670' 'RP-244' 'DD-308' 'RP-236' 'FL-122' 'CT-710' 'IB-409' 'MT-480'\n",
            " 'BZ-805' 'FL-128' 'EX-210' 'MT-481' 'CT-713' 'BZ-802' 'IB-402' 'TR-667'\n",
            " 'DT-801' 'MT-476' 'IB-401' 'OR-891' 'CR-102' 'IB-403' 'CR-105' 'DT-799'\n",
            " 'TR-669' 'DD-303' 'LC-205' 'RP-241' 'WT-221' 'WT-216' 'HV-526' 'MT-478'\n",
            " 'RD-520' 'WT-214' 'IB-408' 'LC-208' 'DD-301' 'EX-206' 'OR-900' 'LC-200'\n",
            " 'IB-404' 'TR-673' 'FL-124' 'DD-302' 'TR-665' 'TC-126' 'TC-129' 'EX-211'\n",
            " 'CT-717' 'CT-716' 'DD-300' 'TR-674' 'FL-130' 'DD-309' 'HV-527' 'WT-217'\n",
            " 'OR-899' 'FT-311' 'RP-239' 'HV-530' 'DD-310' 'DT-805' 'TC-127' 'FT-308'\n",
            " 'BZ-808' 'HV-520' 'EX-202' 'LC-206' 'RD-512' 'LC-207' 'RD-521' 'BZ-804'\n",
            " 'LC-204' 'EX-200' 'TR-672' 'IB-406' 'FT-309' 'HV-529' 'CT-719' 'EM-700'\n",
            " 'BZ-807' 'WT-218' 'EM-693' 'MT-473' 'HV-528' 'OR-898' 'RP-242' 'LC-210'\n",
            " 'TR-664' 'EM-702' 'LC-201' 'LC-203' 'HV-519' 'DD-306' 'TC-131' 'OR-895'\n",
            " 'RD-519' 'RD-517' 'FT-300' 'DT-802' 'DD-304' 'RD-515' 'RD-522' 'CR-112'\n",
            " 'IB-405' 'RP-234' 'TC-130' 'CR-111' 'IB-410' 'FT-305' 'CR-106' 'OR-896'\n",
            " 'FL-121' 'CR-110' 'OR-893' 'TR-675' 'OR-892' 'RD-513' 'FT-301' 'BZ-803'\n",
            " 'CR-101' 'DT-810' 'EX-205' 'WT-223' 'FL-129' 'TB-246' 'EX-207' 'TC-121'\n",
            " 'FT-303' 'CT-712' 'OR-889' 'CR-104' 'FL-126' 'EX-208' 'DT-800' 'CT-714'\n",
            " 'CT-720' 'TC-122' 'RD-514' 'CT-718' 'FT-310' 'EM-698' 'OR-890' 'TC-125'\n",
            " 'EM-696' 'DD-311' 'TB-245' 'CR-103' 'FL-120' 'TC-128' 'FL-131' 'CT-711'\n",
            " 'RP-235' 'DD-305' 'TC-120' 'DT-809' 'TB-251' 'BZ-806' 'TB-253' 'DD-307'\n",
            " 'WT-212' 'DT-807' 'IB-400' 'FT-307' 'TB-255' 'HV-525' 'TC-124' 'EX-203'\n",
            " 'TB-248' 'HV-522' 'EM-699' 'FL-123' 'LC-199' 'IB-407' 'BZ-811' 'RP-245'\n",
            " 'WT-213' 'MT-475' 'EX-209' 'MT-471' 'LC-202' 'CT-715' 'EM-694' 'HV-524'\n",
            " 'FL-127' 'WT-215' 'EM-692' 'BZ-810' 'DT-804' 'BZ-809' 'DT-803' 'TB-249'\n",
            " 'BB-898' 'BB-899' 'BB-892']\n",
            "Unique values for column 'ProductDescription': ['ForkLifts-Bradshaw-HeavyDuty-YellowBlack'\n",
            " 'RoadPavers-Raygo-LightDuty-WhiteYellow'\n",
            " 'RockDrillers-Tranter-LightDuty-White' 'Bulldozers-JCB-HeavyDuty-Yellow'\n",
            " 'Bulldozers-Case-HeavyDuty-White' 'RoadPavers-Niigata-HeavyDuty-Orange'\n",
            " 'WindTurbines-Guodian-Standard-Red'\n",
            " 'WindTurbines-Enercon-HeavyDuty-YellowBlack'\n",
            " 'EarthMovers-Caterpillar-HeavyDuty-White'\n",
            " 'TunnelBores-Herrenknecht-LightDuty-YellowBlack'\n",
            " 'RockDrillers-AtlasCopco-Standard-Yellow'\n",
            " 'MiningTrucks-Volvo-Standard-Red' 'TunnelBores-Mincon-LightDuty-Yellow'\n",
            " 'TunnelBores-Tungaloy-LightDuty-WhiteYellow'\n",
            " 'TunnelBores-Cimolai-LightDuty-YellowBlack'\n",
            " 'EarthMovers-IngersollRand-LightDuty-YellowBlack'\n",
            " 'WindTurbines-Suzlon-Standard-Black' 'Trenchers-Davis-Standard-Red'\n",
            " 'OilRigs-Warco-LightDuty-Green' 'TunnelBores-Ascom-LightDuty-Green'\n",
            " 'Cranes-Cargotec-LightDuty-White'\n",
            " 'IceBreakers-Chevrolet-HeavyDuty-WhiteYellow'\n",
            " 'MiningTrucks-Nissan-LightDuty-RedWhite'\n",
            " 'DumpTrucks-Liebherr-LightDuty-Orange'\n",
            " 'Excavators-Hyundai-HeavyDuty-White'\n",
            " 'MiningTrucks-Isuzu-HeavyDuty-Orange'\n",
            " 'EarthMovers-Volvo-HeavyDuty-RedWhite'\n",
            " 'RockDrillers-Akkerman-LightDuty-GreenWhite'\n",
            " 'FarmTillers-Valtra-Standard-Orange'\n",
            " 'FarmTillers-Case-HeavyDuty-YellowBlack'\n",
            " 'MiningTrucks-Caterpillar-HeavyDuty-Yellow' 'Cranes-Kone-HeavyDuty-Red'\n",
            " 'Excavators-Komatsu-Standard-RedWhite' 'Cranes-Hitachi-Standard-Red'\n",
            " 'OilRigs-Radoil-Standard-Red' 'RoadPavers-Allatt-HeavyDuty-Orange'\n",
            " 'DumpTrucks-Caterpillar-LightDuty-Green'\n",
            " 'FarmTillers-Ausa-HeavyDuty-White' 'Trenchers-Toro-LightDuty-Red'\n",
            " 'Harvesters-Bamford-LightDuty-Black'\n",
            " 'Trenchers-Liebherr-HeavyDuty-GreenWhite'\n",
            " 'RoadPavers-Volvo-HeavyDuty-GreenWhite'\n",
            " 'Harvesters-JohnDeere-LightDuty-White'\n",
            " 'Tractors-NewHolland-Standard-RedWhite' 'Compactors-Bomag-Standard-Green'\n",
            " 'MiningTrucks-Peterbilt-Standard-Yellow'\n",
            " 'EarthMovers-Bobcat-LightDuty-RedWhite'\n",
            " 'Locomotives-Avokov-LightDuty-Green'\n",
            " 'Trenchers-DitchWitch-HeavyDuty-Green'\n",
            " 'RoadPavers-LiuGong-LightDuty-Yellow' 'Dredgers-AFM-HeavyDuty-Black'\n",
            " 'RoadPavers-Caterpillar-Standard-Yellow'\n",
            " 'ForkLifts-Nissan-Standard-Black' 'Compactors-BomMach-LightDuty-Orange'\n",
            " 'IceBreakers-Toyota-LightDuty-Black'\n",
            " 'MiningTrucks-Mercedes-LightDuty-Yellow'\n",
            " 'Bulldozers-Komatsu-LightDuty-Orange'\n",
            " 'ForkLifts-Crown-HeavyDuty-YellowBlack'\n",
            " 'Excavators-JohnDeere-Standard-WhiteYellow'\n",
            " 'MiningTrucks-Chevrolet-LightDuty-YellowBlack'\n",
            " 'Compactors-Vogele-LightDuty-YellowBlack'\n",
            " 'Bulldozers-IngersollRand-Standard-YellowBlack'\n",
            " 'IceBreakers-BIM-Standard-GreenWhite'\n",
            " 'Trenchers-Caterpillar-Standard-GreenWhite'\n",
            " 'DumpTrucks-Volvo-Standard-WhiteYellow'\n",
            " 'MiningTrucks-Renault-LightDuty-Orange'\n",
            " 'IceBreakers-Bobcat-Standard-Black' 'OilRigs-Transfor-LightDuty-Orange'\n",
            " 'Cranes-TransGulf-Standard-Green' 'IceBreakers-SnoWay-LightDuty-Black'\n",
            " 'Cranes-Kobelco-LightDuty-Orange' 'DumpTrucks-JCB-HeavyDuty-White'\n",
            " 'Trenchers-Astec-LightDuty-White' 'Dredgers-Barko-Standard-WhiteYellow'\n",
            " 'Locomotives-Transwerk-HeavyDuty-Yellow'\n",
            " 'RoadPavers-BlawKnox-HeavyDuty-Black'\n",
            " 'WindTurbines-Mitsubishi-HeavyDuty-WhiteYellow'\n",
            " 'WindTurbines-Vestas-Standard-WhiteYellow'\n",
            " 'Harvesters-Oliver-LightDuty-YellowBlack'\n",
            " 'MiningTrucks-Mack-LightDuty-Orange'\n",
            " 'RockDrillers-Tungaloy-Standard-YellowBlack'\n",
            " 'WindTurbines-GE-Standard-White'\n",
            " 'IceBreakers-Western-LightDuty-GreenWhite'\n",
            " 'Locomotives-Talgo-HeavyDuty-YellowBlack'\n",
            " 'Dredgers-Kesla-Standard-RedWhite'\n",
            " 'Excavators-Bobcat-Standard-YellowBlack'\n",
            " 'OilRigs-Zeeco-LightDuty-WhiteYellow'\n",
            " 'Locomotives-Fablok-LightDuty-WhiteYellow'\n",
            " 'IceBreakers-Leitner-HeavyDuty-RedWhite' 'Trenchers-Wylie-LightDuty-Red'\n",
            " 'ForkLifts-Taylor-LightDuty-YellowBlack'\n",
            " 'Dredgers-Valmet-LightDuty-RedWhite'\n",
            " 'Trenchers-Zeppelin-Standard-RedWhite'\n",
            " 'Tractors-JohnDeere-LightDuty-Green' 'Tractors-Ford-LightDuty-White'\n",
            " 'Excavators-Liebherr-HeavyDuty-Yellow'\n",
            " 'Compactors-Wirtgen-HeavyDuty-Yellow'\n",
            " 'Compactors-Caterpillar-HeavyDuty-Yellow' 'Dredgers-Rohr-HeavyDuty-White'\n",
            " 'Trenchers-Lehnhoff-LightDuty-GreenWhite'\n",
            " 'ForkLifts-Bobcat-HeavyDuty-Red' 'Dredgers-Julong-LightDuty-GreenWhite'\n",
            " 'Harvesters-Laverda-HeavyDuty-White' 'WindTurbines-Hanjin-Standard-Red'\n",
            " 'OilRigs-Polycrest-LightDuty-Green'\n",
            " 'FarmTillers-JohnDeere-HeavyDuty-Orange'\n",
            " 'RoadPavers-Wirtgen-Standard-Orange' 'Harvesters-Ford-Standard-RedWhite'\n",
            " 'Dredgers-Damen-HeavyDuty-Green' 'DumpTrucks-Hitachi-HeavyDuty-Green'\n",
            " 'Tractors-International-HeavyDuty-Red'\n",
            " 'FarmTillers-Collari-HeavyDuty-Red'\n",
            " 'Bulldozers-Caterpillar-LightDuty-RedWhite'\n",
            " 'Harvesters-Rysca-LightDuty-Yellow'\n",
            " 'Excavators-IngersollRand-LightDuty-RedWhite'\n",
            " 'Locomotives-BMZ-LightDuty-White'\n",
            " 'RockDrillers-IngersollRand-Standard-White'\n",
            " 'Locomotives-Pafawag-Standard-RedWhite'\n",
            " 'RockDrillers-GHH-HeavyDuty-YellowBlack'\n",
            " 'Bulldozers-Liebherr-LightDuty-GreenWhite'\n",
            " 'Locomotives-Hutt-LightDuty-Green'\n",
            " 'Excavators-Caterpillar-LightDuty-RedWhite'\n",
            " 'Trenchers-Tesmec-Standard-Red' 'IceBreakers-SnowMan-LightDuty-Yellow'\n",
            " 'FarmTillers-Enorossi-HeavyDuty-RedWhite'\n",
            " 'Harvesters-Volvo-LightDuty-Black'\n",
            " 'Compactors-AtlasCopco-HeavyDuty-RedWhite'\n",
            " 'EarthMovers-Hitachi-Standard-GreenWhite'\n",
            " 'Bulldozers-Terex-Standard-Black' 'WindTurbines-Goldwind-Standard-Rust'\n",
            " 'EarthMovers-Noram-LightDuty-Black'\n",
            " 'MiningTrucks-Kenworth-Standard-WhiteYellow'\n",
            " 'Harvesters-Cockshutt-Standard-Red' 'OilRigs-DGFritt-LightDuty-Black'\n",
            " 'RoadPavers-Neal-Standard-White' 'Locomotives-Scott-Standard-Black'\n",
            " 'Trenchers-Bobcat-Standard-White' 'EarthMovers-JohnDeere-Standard-Red'\n",
            " 'Locomotives-Kolomensky-HeavyDuty-GreenWhite'\n",
            " 'Locomotives-Electroputere-Standard-Red'\n",
            " 'Harvesters-NewHolland-HeavyDuty-RedWhite'\n",
            " 'Dredgers-Ponsse-Standard-Orange' 'Tractors-KMZ-LightDuty-White'\n",
            " 'OilRigs-AtlasCopco-Standard-Red' 'RockDrillers-Robbins-LightDuty-Orange'\n",
            " 'RockDrillers-Caterpillar-LightDuty-WhiteYellow'\n",
            " 'FarmTillers-Bertolini-LightDuty-GreenWhite'\n",
            " 'DumpTrucks-Kraz-Standard-Yellow' 'Dredgers-Tigercat-LightDuty-White'\n",
            " 'RockDrillers-Tamrock-Standard-RedWhite'\n",
            " 'RockDrillers-Furukawa-HeavyDuty-Yellow'\n",
            " 'Cranes-Palfinger-HeavyDuty-YellowBlack'\n",
            " 'IceBreakers-Tacoma-HeavyDuty-GreenWhite'\n",
            " 'RoadPavers-Terex-LightDuty-RedWhite' 'Tractors-JCB-HeavyDuty-White'\n",
            " 'Cranes-Tadano-Standard-Orange' 'IceBreakers-Ford-LightDuty-Green'\n",
            " 'FarmTillers-Gleaner-LightDuty-YellowBlack'\n",
            " 'Cranes-Liebherr-Standard-Red' 'OilRigs-Dabuccino-HeavyDuty-Red'\n",
            " 'ForkLifts-Mitsubishi-HeavyDuty-Orange' 'Cranes-Terex-HeavyDuty-Red'\n",
            " 'OilRigs-Oakford-LightDuty-White' 'Trenchers-Trencor-HeavyDuty-Orange'\n",
            " 'OilRigs-Mobius-HeavyDuty-RedWhite'\n",
            " 'RockDrillers-Sandvik-Standard-GreenWhite'\n",
            " 'FarmTillers-NewHolland-HeavyDuty-Yellow'\n",
            " 'Bulldozers-BEML-LightDuty-Green' 'Cranes-Xuzhou-HeavyDuty-RedWhite'\n",
            " 'DumpTrucks-Komatsu-HeavyDuty-YellowBlack'\n",
            " 'Excavators-Poclain-HeavyDuty-GreenWhite'\n",
            " 'WindTurbines-MingYang-LightDuty-Black'\n",
            " 'ForkLifts-Ausa-Standard-GreenWhite' 'TunnelBores-Robbins-Standard-Black'\n",
            " 'Excavators-Hitachi-Standard-GreenWhite'\n",
            " 'Tractors-Eicher-LightDuty-Black' 'FarmTillers-Kubota-LightDuty-Black'\n",
            " 'Compactors-JCB-Standard-Black' 'OilRigs-Mollier-LightDuty-RedWhite'\n",
            " 'Cranes-Manitowoc-HeavyDuty-White' 'ForkLifts-Rocla-Standard-YellowBlack'\n",
            " 'Excavators-JCB-LightDuty-RedWhite'\n",
            " 'DumpTrucks-Mercedes-HeavyDuty-GreenWhite'\n",
            " 'Compactors-Kleemann-LightDuty-Blue'\n",
            " 'Compactors-IngersollRand-HeavyDuty-Red'\n",
            " 'Tractors-Mitsubishi-HeavyDuty-Yellow'\n",
            " 'RockDrillers-Bessac-HeavyDuty-Yellow' 'Compactors-Hamm-LightDuty-Green'\n",
            " 'FarmTillers-Hidromek-Standard-White' 'EarthMovers-JCB-Standard-Red'\n",
            " 'OilRigs-Perc-LightDuty-WhiteYellow'\n",
            " 'Tractors-Kubota-HeavyDuty-GreenWhite'\n",
            " 'EarthMovers-Takeuchi-HeavyDuty-Orange'\n",
            " 'Dredgers-DRH-HeavyDuty-WhiteYellow' 'TunnelBores-BBM-HeavyDuty-Yellow'\n",
            " 'Cranes-Columbus-Standard-Yellow' 'ForkLifts-Kalmar-LightDuty-Orange'\n",
            " 'Tractors-MasseyFerguson-HeavyDuty-White'\n",
            " 'ForkLifts-Caterpillar-Standard-RedWhite'\n",
            " 'Compactors-Bobcat-LightDuty-Green' 'RoadPavers-Vogele-Standard-Red'\n",
            " 'Dredgers-Caterpillar-LightDuty-Yellow'\n",
            " 'Tractors-Mahindra-Standard-White'\n",
            " 'DumpTrucks-Mack-LightDuty-WhiteYellow'\n",
            " 'TunnelBores-TCI-HeavyDuty-WhiteYellow'\n",
            " 'Bulldozers-AllisChalmers-HeavyDuty-White'\n",
            " 'TunnelBores-Bessac-Standard-Green' 'Dredgers-DSC-Standard-Yellow'\n",
            " 'WindTurbines-Siemens-HeavyDuty-Black'\n",
            " 'DumpTrucks-Valmet-LightDuty-Black' 'IceBreakers-Snowcat-Standard-Green'\n",
            " 'FarmTillers-MasseyFerguson-Standard-White'\n",
            " 'TunnelBores-Doosan-HeavyDuty-Green'\n",
            " 'Harvesters-MasseyFerguson-LightDuty-Yellow'\n",
            " 'Tractors-Belarus-LightDuty-GreenWhite'\n",
            " 'Excavators-Volvo-HeavyDuty-Orange'\n",
            " 'TunnelBores-Akkerman-LightDuty-Orange'\n",
            " 'Harvesters-DavidBrown-HeavyDuty-RedWhite'\n",
            " 'EarthMovers-Merlo-Standard-WhiteYellow'\n",
            " 'ForkLifts-Raymond-LightDuty-WhiteYellow'\n",
            " 'Locomotives-Hillside-HeavyDuty-Green'\n",
            " 'IceBreakers-Boss-HeavyDuty-Yellow' 'Bulldozers-Toyota-HeavyDuty-Green'\n",
            " 'RoadPavers-Dynapac-Standard-Green'\n",
            " 'WindTurbines-Sinovel-HeavyDuty-YellowBlack'\n",
            " 'MiningTrucks-Ford-LightDuty-Yellow' 'Excavators-Hitachi-HeavyDuty-Black'\n",
            " 'MiningTrucks-General-Standard-YellowBlack'\n",
            " 'Locomotives-Easttown-Standard-WhiteYellow'\n",
            " 'Compactors-Honda-HeavyDuty-RedWhite'\n",
            " 'EarthMovers-Komatsu-HeavyDuty-Green'\n",
            " 'Harvesters-DeutzFahr-LightDuty-Black'\n",
            " 'ForkLifts-Svetruck-Standard-White'\n",
            " 'WindTurbines-Gamesa-HeavyDuty-Orange'\n",
            " 'EarthMovers-NewHolland-HeavyDuty-YellowBlack'\n",
            " 'Bulldozers-Hitachi-LightDuty-WhiteYellow'\n",
            " 'DumpTrucks-Peterbilt-HeavyDuty-Black'\n",
            " 'Bulldozers-International-Standard-Red'\n",
            " 'DumpTrucks-Volvo-LightDuty-White'\n",
            " 'TunnelBores-Caterpillar-LightDuty-YellowBlack'\n",
            " 'Skidsteer-Backhoe-loader-Standard-Orange'\n",
            " 'Skidsteer-Backhoe-loader-Heavy-Red'\n",
            " 'Skidsteer-Backhoe-loader-Heavy-Yellow']\n",
            "Unique values for column 'Brand': ['Bradshaw' 'Raygo' 'Tranter' 'JCB' 'Case' 'Niigata' 'Guodian' 'Enercon'\n",
            " 'Caterpillar' 'Herrenknecht' 'AtlasCopco' 'Volvo' 'Mincon' 'Tungaloy'\n",
            " 'Cimolai' 'IngersollRand' 'Suzlon' 'Davis' 'Warco' 'Ascom' 'Cargotec'\n",
            " 'Chevrolet' 'Nissan' 'Liebherr' 'Hyundai' 'Isuzu' 'Akkerman' 'Valtra'\n",
            " 'KoneCranes' 'Komatsu' 'Hitachi' 'Radoil' 'Allatt' 'Ausa' 'Toro'\n",
            " 'Bamford' 'JohnDeere' 'NewHolland' 'Bomag' 'Peterbilt' 'Bobcat' 'Avokov'\n",
            " 'DitchWitch' 'LiuGong' 'AFM' 'BomMach' 'Toyota' 'Mercedes' 'Crown'\n",
            " 'Vogele' 'BIM' 'Renault' 'Transfor' 'TransGulf' 'SnoWay' 'Kobelco'\n",
            " 'Astec' 'Barko' 'Transwerk' 'BlawKnox' 'Mitsubishi' 'Vestas' 'Oliver'\n",
            " 'Mack' 'GE' 'Western' 'Talgo' 'Kesla' 'Zeeco' 'Fablok' 'Leitner' 'Wylie'\n",
            " 'Taylor' 'Valmet' 'Zeppelin' 'Ford' 'Wirtgen' 'Rohr' 'Lehnhoff' 'Julong'\n",
            " 'Laverda' 'Hanjin' 'Polycrest' 'Damen' 'International' 'Collari' 'Rysca'\n",
            " 'BMZ' 'Pafawag' 'GHH' 'Hutt' 'Tesmec' 'SnowMan' 'Enorossi' 'Terex'\n",
            " 'Goldwind' 'Noram' 'Kenworth' 'Cockshutt' 'DGFritt' 'Neal' 'Scott'\n",
            " 'Kolomensky' 'Electroputere' 'Ponsse' 'KMZ' 'Robbins' 'Bertolini' 'Kraz'\n",
            " 'Tigercat' 'Tamrock' 'Furukawa' 'Palfinger' 'Tacoma' 'Tadano' 'Gleaner'\n",
            " 'Dabuccino' 'Oakford' 'Trencor' 'Mobius' 'Sandvik' 'BEML' 'Xuzhou'\n",
            " 'Poclain' 'MingYang' 'Eicher' 'Kubota' 'Mollier' 'Manitowoc' 'Rocla'\n",
            " 'Kleemann' 'Bessac' 'Hamm' 'Hidromek' 'Perc' 'Takeuchi' 'DRH' 'BBM'\n",
            " 'Columbus' 'Kalmar' 'MasseyFerguson' 'Mahindra' 'TCI' 'AllisChalmers'\n",
            " 'DSC' 'Siemens' 'Snowcat' 'Doosan' 'Belarus' 'DavidBrown' 'Merlo'\n",
            " 'Raymond' 'Hillside' 'Boss' 'Dynapac' 'Sinovel' 'General' 'Easttown'\n",
            " 'Honda' 'DeutzFahr' 'Svetruck' 'Gamesa' 'Bob Cat']\n",
            "Unique values for column 'Type': ['HeavyDuty' 'LightDuty' 'Standard']\n",
            "Unique values for column 'Color': ['YellowBlack' 'WhiteYellow' 'White' 'Yellow' 'Orange' 'Red' 'Black'\n",
            " 'Green' 'RedWhite' 'GreenWhite' 'Rust' 'Blue']\n",
            "Unique values for column 'CityName': ['Mumbai' 'SaoPaulo' 'Windhoek' 'Nashville' 'Detroit' 'Tokyo' 'Rotterdam'\n",
            " 'Auckland' 'Stockholm' 'Anchorage' 'Valencia' 'OklahamaCity' 'Luanda'\n",
            " 'Bangalore' 'Munich' 'NewCastle' 'Perth' 'Johannnesburg' 'Zurich'\n",
            " 'Portsmouth' 'Christchurch' 'Melbourne' 'Frankfurt' 'SaltlakeCity'\n",
            " 'Plymouth' 'Nairobi' 'Amsterdam' 'Taipei' 'Nantes' 'HongKong' 'Bristol'\n",
            " 'Eindhoven' 'Launceston' 'Kinshasa' 'Houston' 'Gaborone' 'Taichung'\n",
            " 'Genoa' 'Louisville' 'RasAlKhaimah' 'Guadalajara' 'Shanghai' 'AbuDhabi'\n",
            " 'AddisAbaba' 'Magnitogorsk' 'Kaohsiung' 'RiodeJaneiro' 'Lafayette'\n",
            " 'Wollongong' 'Yokohama' 'Seoul' 'Drammen' 'Basel' 'Accra' 'Canberra'\n",
            " 'Bakersfield' 'Randstad' 'Kigali' 'Norilsk' 'Cairo' 'Tunis' 'Caracas'\n",
            " 'Brordeaux' 'DarEsSalaam' 'Dubai' 'Capetown' 'Kolkata' 'Shenzhen'\n",
            " 'Chennai' 'Chelyabinsk' 'Lagos' 'KuwaitCity' 'Milan' 'Monterrey'\n",
            " 'Adelaide' 'Sydney' 'Stavanger' 'Libreville' 'Ulsan' 'Toulouse' 'Mombasa'\n",
            " 'Fujairah' 'Berlin']\n",
            "Unique values for column 'CountryName': ['India' 'Brazil' 'Namibia' 'US' 'Japan' 'Netherlands' 'NewZealand'\n",
            " 'Sweden' 'Venezuela' 'Angola' 'Germany' 'UK' 'Australia' 'SouthAfrica'\n",
            " 'Switzerland' 'Kenya' 'China' 'France' 'Congo' 'Botswana' 'Taiwan'\n",
            " 'Italy' 'UAE' 'Mexico' 'Ethiopia' 'Russia' 'SouthKorea' 'Norway' 'Ghana'\n",
            " 'Rwanda' 'Egypt' 'Tunisia' 'Tanzania' 'Nigeria' 'Kuwait' 'Gabon']\n",
            "Unique values for column 'Channel': ['Brochure' 'Magazine' 'CustomerReview' 'Quality' 'RoadShow' 'Website'\n",
            " 'SocialMedia' 'InternetReview' 'OnSiteDemo' 'Television']\n",
            "Unique values for column 'CustomerName': ['Skanska' 'LGCorp' 'Lukoil' ... 'Joshua N Stevenson'\n",
            " 'Azubuike U Onwuemelie' 'Peter A Rønning']\n",
            "Unique values for column 'Industry': ['Construction' 'Conglomerate' 'Oil&Gas' 'Electricity' 'FoodProcessing'\n",
            " 'Retail' 'Automotive' 'Telecom' 'Commodities' 'Mining' 'Chemicals'\n",
            " 'Pharmaceuticals' 'OnlineRetail' 'Healthcare' 'Electronics'\n",
            " 'Construction Contractor' 'Realtor' 'Equipment Dealer' 'Reseller'\n",
            " 'Railway Contractor' 'Dealer']\n"
          ]
        }
      ]
    },
    {
      "cell_type": "code",
      "source": [
        "# Confirm missing values have been removed\n",
        "print(\"\\nMissing data after dropping rows with missing values:\")\n",
        "print(data_cleaned.isnull().sum())"
      ],
      "metadata": {
        "colab": {
          "base_uri": "https://localhost:8080/"
        },
        "id": "Gq8UpL1on6ZU",
        "outputId": "79d1ebf5-ff8f-4be6-d9da-523ff0511f70"
      },
      "execution_count": 24,
      "outputs": [
        {
          "output_type": "stream",
          "name": "stdout",
          "text": [
            "\n",
            "Missing data after dropping rows with missing values:\n",
            "Invoice               0\n",
            "TransactionDate       0\n",
            "DeliveryDate          0\n",
            "EmpKey                0\n",
            "ChannelKey            0\n",
            "StoreID               0\n",
            "ProductKey            0\n",
            "CustomerKey           0\n",
            "Qty                   0\n",
            "Cost                  0\n",
            "Price                 0\n",
            "ProductDescription    0\n",
            "Brand                 0\n",
            "Type                  0\n",
            "Color                 0\n",
            "CityName              0\n",
            "CountryName           0\n",
            "Channel               0\n",
            "CustomerName          0\n",
            "Industry              0\n",
            "dtype: int64\n"
          ]
        }
      ]
    },
    {
      "cell_type": "markdown",
      "source": [
        "**Part 3: Data Visualization**"
      ],
      "metadata": {
        "id": "4TWqUV3COyTl"
      }
    },
    {
      "cell_type": "code",
      "source": [
        "import matplotlib.pyplot as plt\n",
        "import seaborn as sns\n",
        "%matplotlib inline"
      ],
      "metadata": {
        "id": "IMDjOZ2AOz_V"
      },
      "execution_count": 98,
      "outputs": []
    },
    {
      "cell_type": "code",
      "source": [
        "# Select only numeric columns\n",
        "numeric_data = data.select_dtypes(include=['float64', 'int64'])\n",
        "\n",
        "# Compute the correlation matrix\n",
        "correlation_matrix = numeric_data.corr()\n",
        "\n",
        "# Plot the heatmap\n",
        "plt.figure(figsize=(10, 8))  # Adjust figure size\n",
        "sns.heatmap(correlation_matrix, annot=True, cmap='coolwarm', fmt=\".2f\")\n",
        "plt.title('Correlation Heatmap')\n",
        "plt.show()"
      ],
      "metadata": {
        "colab": {
          "base_uri": "https://localhost:8080/",
          "height": 699
        },
        "id": "CovFg6odohTQ",
        "outputId": "4a3368c2-0091-438a-e348-aa4fe764e9e1"
      },
      "execution_count": 101,
      "outputs": [
        {
          "output_type": "display_data",
          "data": {
            "text/plain": [
              "<Figure size 1000x800 with 2 Axes>"
            ],
            "image/png": "[encoded data removed]"
          },
          "metadata": {}
        }
      ]
    },
    {
      "cell_type": "code",
      "source": [
        "# Q:  which products are most profitable?\n",
        "data['Profit'] = data['Price'] - data['Cost']\n",
        "\n",
        "top_brands =data.groupby('Brand')['Qty'].sum().nlargest(10).index\n",
        "top_brands = data[data['Brand'].isin(top_brands)]\n",
        "most_profitable_products = top_brands.groupby(['Brand', 'ProductDescription'])['Profit'].sum().reset_index()\n",
        "most_profitable_products = most_profitable_products.sort_values('Profit', ascending=False).drop_duplicates('Brand')\n",
        "\n",
        "\n",
        "most_profitable_products[['Brand', 'ProductDescription', 'Profit']]\n"
      ],
      "metadata": {
        "colab": {
          "base_uri": "https://localhost:8080/",
          "height": 363
        },
        "id": "yv1M0K13ib1V",
        "outputId": "2e650458-a644-4ded-9253-8c7fb98bb464"
      },
      "execution_count": 138,
      "outputs": [
        {
          "output_type": "execute_result",
          "data": {
            "text/plain": [
              "            Brand                         ProductDescription    Profit\n",
              "32  IngersollRand  RockDrillers-IngersollRand-Standard-White  12583943\n",
              "8     Caterpillar      Dredgers-Caterpillar-LightDuty-Yellow  10458126\n",
              "1          Bobcat      EarthMovers-Bobcat-LightDuty-RedWhite  10223196\n",
              "24        Hitachi         DumpTrucks-Hitachi-HeavyDuty-Green   9998014\n",
              "45        Komatsu   DumpTrucks-Komatsu-HeavyDuty-YellowBlack   8382542\n",
              "49       Liebherr               Cranes-Liebherr-Standard-Red   8187012\n",
              "39      JohnDeere         EarthMovers-JohnDeere-Standard-Red   7172968\n",
              "38            JCB               Tractors-JCB-HeavyDuty-White   7143696\n",
              "59          Volvo      RoadPavers-Volvo-HeavyDuty-GreenWhite   6225136\n",
              "20           Ford         MiningTrucks-Ford-LightDuty-Yellow   5932136"
            ],
            "text/html": [
              "\n",
              "  <div id=\"df-1ebbe34b-6b10-46df-9231-32aff0305e11\" class=\"colab-df-container\">\n",
              "    <div>\n",
              "<style scoped>\n",
              "    .dataframe tbody tr th:only-of-type {\n",
              "        vertical-align: middle;\n",
              "    }\n",
              "\n",
              "    .dataframe tbody tr th {\n",
              "        vertical-align: top;\n",
              "    }\n",
              "\n",
              "    .dataframe thead th {\n",
              "        text-align: right;\n",
              "    }\n",
              "</style>\n",
              "<table border=\"1\" class=\"dataframe\">\n",
              "  <thead>\n",
              "    <tr style=\"text-align: right;\">\n",
              "      <th></th>\n",
              "      <th>Brand</th>\n",
              "      <th>ProductDescription</th>\n",
              "      <th>Profit</th>\n",
              "    </tr>\n",
              "  </thead>\n",
              "  <tbody>\n",
              "    <tr>\n",
              "      <th>32</th>\n",
              "      <td>IngersollRand</td>\n",
              "      <td>RockDrillers-IngersollRand-Standard-White</td>\n",
              "      <td>12583943</td>\n",
              "    </tr>\n",
              "    <tr>\n",
              "      <th>8</th>\n",
              "      <td>Caterpillar</td>\n",
              "      <td>Dredgers-Caterpillar-LightDuty-Yellow</td>\n",
              "      <td>10458126</td>\n",
              "    </tr>\n",
              "    <tr>\n",
              "      <th>1</th>\n",
              "      <td>Bobcat</td>\n",
              "      <td>EarthMovers-Bobcat-LightDuty-RedWhite</td>\n",
              "      <td>10223196</td>\n",
              "    </tr>\n",
              "    <tr>\n",
              "      <th>24</th>\n",
              "      <td>Hitachi</td>\n",
              "      <td>DumpTrucks-Hitachi-HeavyDuty-Green</td>\n",
              "      <td>9998014</td>\n",
              "    </tr>\n",
              "    <tr>\n",
              "      <th>45</th>\n",
              "      <td>Komatsu</td>\n",
              "      <td>DumpTrucks-Komatsu-HeavyDuty-YellowBlack</td>\n",
              "      <td>8382542</td>\n",
              "    </tr>\n",
              "    <tr>\n",
              "      <th>49</th>\n",
              "      <td>Liebherr</td>\n",
              "      <td>Cranes-Liebherr-Standard-Red</td>\n",
              "      <td>8187012</td>\n",
              "    </tr>\n",
              "    <tr>\n",
              "      <th>39</th>\n",
              "      <td>JohnDeere</td>\n",
              "      <td>EarthMovers-JohnDeere-Standard-Red</td>\n",
              "      <td>7172968</td>\n",
              "    </tr>\n",
              "    <tr>\n",
              "      <th>38</th>\n",
              "      <td>JCB</td>\n",
              "      <td>Tractors-JCB-HeavyDuty-White</td>\n",
              "      <td>7143696</td>\n",
              "    </tr>\n",
              "    <tr>\n",
              "      <th>59</th>\n",
              "      <td>Volvo</td>\n",
              "      <td>RoadPavers-Volvo-HeavyDuty-GreenWhite</td>\n",
              "      <td>6225136</td>\n",
              "    </tr>\n",
              "    <tr>\n",
              "      <th>20</th>\n",
              "      <td>Ford</td>\n",
              "      <td>MiningTrucks-Ford-LightDuty-Yellow</td>\n",
              "      <td>5932136</td>\n",
              "    </tr>\n",
              "  </tbody>\n",
              "</table>\n",
              "</div>\n",
              "    <div class=\"colab-df-buttons\">\n",
              "\n",
              "  <div class=\"colab-df-container\">\n",
              "    <button class=\"colab-df-convert\" onclick=\"convertToInteractive('df-1ebbe34b-6b10-46df-9231-32aff0305e11')\"\n",
              "            title=\"Convert this dataframe to an interactive table.\"\n",
              "            style=\"display:none;\">\n",
              "\n",
              "  <svg xmlns=\"http://www.w3.org/2000/svg\" height=\"24px\" viewBox=\"0 -960 960 960\">\n",
              "    <path d=\"M120-120v-720h720v720H120Zm60-500h600v-160H180v160Zm220 220h160v-160H400v160Zm0 220h160v-160H400v160ZM180-400h160v-160H180v160Zm440 0h160v-160H620v160ZM180-180h160v-160H180v160Zm440 0h160v-160H620v160Z\"/>\n",
              "  </svg>\n",
              "    </button>\n",
              "\n",
              "  <style>\n",
              "    .colab-df-container {\n",
              "      display:flex;\n",
              "      gap: 12px;\n",
              "    }\n",
              "\n",
              "    .colab-df-convert {\n",
              "      background-color: #E8F0FE;\n",
              "      border: none;\n",
              "      border-radius: 50%;\n",
              "      cursor: pointer;\n",
              "      display: none;\n",
              "      fill: #1967D2;\n",
              "      height: 32px;\n",
              "      padding: 0 0 0 0;\n",
              "      width: 32px;\n",
              "    }\n",
              "\n",
              "    .colab-df-convert:hover {\n",
              "      background-color: #E2EBFA;\n",
              "      box-shadow: 0px 1px 2px rgba(60, 64, 67, 0.3), 0px 1px 3px 1px rgba(60, 64, 67, 0.15);\n",
              "      fill: #174EA6;\n",
              "    }\n",
              "\n",
              "    .colab-df-buttons div {\n",
              "      margin-bottom: 4px;\n",
              "    }\n",
              "\n",
              "    [theme=dark] .colab-df-convert {\n",
              "      background-color: #3B4455;\n",
              "      fill: #D2E3FC;\n",
              "    }\n",
              "\n",
              "    [theme=dark] .colab-df-convert:hover {\n",
              "      background-color: #434B5C;\n",
              "      box-shadow: 0px 1px 3px 1px rgba(0, 0, 0, 0.15);\n",
              "      filter: drop-shadow(0px 1px 2px rgba(0, 0, 0, 0.3));\n",
              "      fill: #FFFFFF;\n",
              "    }\n",
              "  </style>\n",
              "\n",
              "    <script>\n",
              "      const buttonEl =\n",
              "        document.querySelector('#df-1ebbe34b-6b10-46df-9231-32aff0305e11 button.colab-df-convert');\n",
              "      buttonEl.style.display =\n",
              "        google.colab.kernel.accessAllowed ? 'block' : 'none';\n",
              "\n",
              "      async function convertToInteractive(key) {\n",
              "        const element = document.querySelector('#df-1ebbe34b-6b10-46df-9231-32aff0305e11');\n",
              "        const dataTable =\n",
              "          await google.colab.kernel.invokeFunction('convertToInteractive',\n",
              "                                                    [key], {});\n",
              "        if (!dataTable) return;\n",
              "\n",
              "        const docLinkHtml = 'Like what you see? Visit the ' +\n",
              "          '<a target=\"_blank\" href=https://colab.research.google.com/notebooks/data_table.ipynb>data table notebook</a>'\n",
              "          + ' to learn more about interactive tables.';\n",
              "        element.innerHTML = '';\n",
              "        dataTable['output_type'] = 'display_data';\n",
              "        await google.colab.output.renderOutput(dataTable, element);\n",
              "        const docLink = document.createElement('div');\n",
              "        docLink.innerHTML = docLinkHtml;\n",
              "        element.appendChild(docLink);\n",
              "      }\n",
              "    </script>\n",
              "  </div>\n",
              "\n",
              "\n",
              "<div id=\"df-3e501679-4abd-40da-a198-462de616d880\">\n",
              "  <button class=\"colab-df-quickchart\" onclick=\"quickchart('df-3e501679-4abd-40da-a198-462de616d880')\"\n",
              "            title=\"Suggest charts\"\n",
              "            style=\"display:none;\">\n",
              "\n",
              "<svg xmlns=\"http://www.w3.org/2000/svg\" height=\"24px\"viewBox=\"0 0 24 24\"\n",
              "     width=\"24px\">\n",
              "    <g>\n",
              "        <path d=\"M19 3H5c-1.1 0-2 .9-2 2v14c0 1.1.9 2 2 2h14c1.1 0 2-.9 2-2V5c0-1.1-.9-2-2-2zM9 17H7v-7h2v7zm4 0h-2V7h2v10zm4 0h-2v-4h2v4z\"/>\n",
              "    </g>\n",
              "</svg>\n",
              "  </button>\n",
              "\n",
              "<style>\n",
              "  .colab-df-quickchart {\n",
              "      --bg-color: #E8F0FE;\n",
              "      --fill-color: #1967D2;\n",
              "      --hover-bg-color: #E2EBFA;\n",
              "      --hover-fill-color: #174EA6;\n",
              "      --disabled-fill-color: #AAA;\n",
              "      --disabled-bg-color: #DDD;\n",
              "  }\n",
              "\n",
              "  [theme=dark] .colab-df-quickchart {\n",
              "      --bg-color: #3B4455;\n",
              "      --fill-color: #D2E3FC;\n",
              "      --hover-bg-color: #434B5C;\n",
              "      --hover-fill-color: #FFFFFF;\n",
              "      --disabled-bg-color: #3B4455;\n",
              "      --disabled-fill-color: #666;\n",
              "  }\n",
              "\n",
              "  .colab-df-quickchart {\n",
              "    background-color: var(--bg-color);\n",
              "    border: none;\n",
              "    border-radius: 50%;\n",
              "    cursor: pointer;\n",
              "    display: none;\n",
              "    fill: var(--fill-color);\n",
              "    height: 32px;\n",
              "    padding: 0;\n",
              "    width: 32px;\n",
              "  }\n",
              "\n",
              "  .colab-df-quickchart:hover {\n",
              "    background-color: var(--hover-bg-color);\n",
              "    box-shadow: 0 1px 2px rgba(60, 64, 67, 0.3), 0 1px 3px 1px rgba(60, 64, 67, 0.15);\n",
              "    fill: var(--button-hover-fill-color);\n",
              "  }\n",
              "\n",
              "  .colab-df-quickchart-complete:disabled,\n",
              "  .colab-df-quickchart-complete:disabled:hover {\n",
              "    background-color: var(--disabled-bg-color);\n",
              "    fill: var(--disabled-fill-color);\n",
              "    box-shadow: none;\n",
              "  }\n",
              "\n",
              "  .colab-df-spinner {\n",
              "    border: 2px solid var(--fill-color);\n",
              "    border-color: transparent;\n",
              "    border-bottom-color: var(--fill-color);\n",
              "    animation:\n",
              "      spin 1s steps(1) infinite;\n",
              "  }\n",
              "\n",
              "  @keyframes spin {\n",
              "    0% {\n",
              "      border-color: transparent;\n",
              "      border-bottom-color: var(--fill-color);\n",
              "      border-left-color: var(--fill-color);\n",
              "    }\n",
              "    20% {\n",
              "      border-color: transparent;\n",
              "      border-left-color: var(--fill-color);\n",
              "      border-top-color: var(--fill-color);\n",
              "    }\n",
              "    30% {\n",
              "      border-color: transparent;\n",
              "      border-left-color: var(--fill-color);\n",
              "      border-top-color: var(--fill-color);\n",
              "      border-right-color: var(--fill-color);\n",
              "    }\n",
              "    40% {\n",
              "      border-color: transparent;\n",
              "      border-right-color: var(--fill-color);\n",
              "      border-top-color: var(--fill-color);\n",
              "    }\n",
              "    60% {\n",
              "      border-color: transparent;\n",
              "      border-right-color: var(--fill-color);\n",
              "    }\n",
              "    80% {\n",
              "      border-color: transparent;\n",
              "      border-right-color: var(--fill-color);\n",
              "      border-bottom-color: var(--fill-color);\n",
              "    }\n",
              "    90% {\n",
              "      border-color: transparent;\n",
              "      border-bottom-color: var(--fill-color);\n",
              "    }\n",
              "  }\n",
              "</style>\n",
              "\n",
              "  <script>\n",
              "    async function quickchart(key) {\n",
              "      const quickchartButtonEl =\n",
              "        document.querySelector('#' + key + ' button');\n",
              "      quickchartButtonEl.disabled = true;  // To prevent multiple clicks.\n",
              "      quickchartButtonEl.classList.add('colab-df-spinner');\n",
              "      try {\n",
              "        const charts = await google.colab.kernel.invokeFunction(\n",
              "            'suggestCharts', [key], {});\n",
              "      } catch (error) {\n",
              "        console.error('Error during call to suggestCharts:', error);\n",
              "      }\n",
              "      quickchartButtonEl.classList.remove('colab-df-spinner');\n",
              "      quickchartButtonEl.classList.add('colab-df-quickchart-complete');\n",
              "    }\n",
              "    (() => {\n",
              "      let quickchartButtonEl =\n",
              "        document.querySelector('#df-3e501679-4abd-40da-a198-462de616d880 button');\n",
              "      quickchartButtonEl.style.display =\n",
              "        google.colab.kernel.accessAllowed ? 'block' : 'none';\n",
              "    })();\n",
              "  </script>\n",
              "</div>\n",
              "\n",
              "    </div>\n",
              "  </div>\n"
            ],
            "application/vnd.google.colaboratory.intrinsic+json": {
              "type": "dataframe",
              "summary": "{\n  \"name\": \"most_profitable_products[['Brand', 'ProductDescription', 'Profit']]\",\n  \"rows\": 10,\n  \"fields\": [\n    {\n      \"column\": \"Brand\",\n      \"properties\": {\n        \"dtype\": \"string\",\n        \"num_unique_values\": 10,\n        \"samples\": [\n          \"Volvo\",\n          \"Caterpillar\",\n          \"Liebherr\"\n        ],\n        \"semantic_type\": \"\",\n        \"description\": \"\"\n      }\n    },\n    {\n      \"column\": \"ProductDescription\",\n      \"properties\": {\n        \"dtype\": \"string\",\n        \"num_unique_values\": 10,\n        \"samples\": [\n          \"RoadPavers-Volvo-HeavyDuty-GreenWhite\",\n          \"Dredgers-Caterpillar-LightDuty-Yellow\",\n          \"Cranes-Liebherr-Standard-Red\"\n        ],\n        \"semantic_type\": \"\",\n        \"description\": \"\"\n      }\n    },\n    {\n      \"column\": \"Profit\",\n      \"properties\": {\n        \"dtype\": \"number\",\n        \"std\": 2135332,\n        \"min\": 5932136,\n        \"max\": 12583943,\n        \"num_unique_values\": 10,\n        \"samples\": [\n          6225136,\n          10458126,\n          8187012\n        ],\n        \"semantic_type\": \"\",\n        \"description\": \"\"\n      }\n    }\n  ]\n}"
            }
          },
          "metadata": {},
          "execution_count": 138
        }
      ]
    },
    {
      "cell_type": "code",
      "source": [
        "# what products are generating the most revenew?\n",
        "\n",
        "data['Revenue'] = data['Price'] * data['Qty']\n",
        "data['Profit'] = data['Revenue'] - data['Cost']\n",
        "most_revenue_generating_products = data.groupby(['Brand', 'ProductKey'])['Revenue'].sum().sort_values(ascending=False).head(10)\n",
        "\n",
        "# Convert most_revenue_generating_products to a DataFrame for plotting\n",
        "most_revenue_generating_products_df = most_revenue_generating_products.reset_index()\n",
        "\n",
        "print(most_revenue_generating_products_df)\n",
        "\n",
        "plt.title('most revenue generating products')\n",
        "# Use 'ProductDescription' for x and 'Revenue' for y in the barplot\n",
        "sns.barplot(x='Revenue', y='ProductKey', data=most_revenue_generating_products_df);"
      ],
      "metadata": {
        "colab": {
          "base_uri": "https://localhost:8080/",
          "height": 669
        },
        "id": "YP1OZb3ZhNTK",
        "outputId": "19f6ac72-3c8c-4dc8-8f3c-42d4e51738be"
      },
      "execution_count": 134,
      "outputs": [
        {
          "output_type": "stream",
          "name": "stdout",
          "text": [
            "        Brand ProductKey    Revenue\n",
            "0  AtlasCopco     OR-895  150206698\n",
            "1     Mollier     OR-889  127063420\n",
            "2     DGFritt     OR-898  125367957\n",
            "3   Dabuccino     OR-896  118105014\n",
            "4   Polycrest     OR-899  101301216\n",
            "5      Radoil     OR-894   91973970\n",
            "6     Oakford     OR-893   90644150\n",
            "7       Zeeco     OR-900   90521856\n",
            "8    Transfor     OR-891   86097557\n",
            "9       Warco     OR-897   79595502\n"
          ]
        },
        {
          "output_type": "display_data",
          "data": {
            "text/plain": [
              "<Figure size 640x480 with 1 Axes>"
            ],
            "image/png": "[encoded data removed]"
          },
          "metadata": {}
        }
      ]
    },
    {
      "cell_type": "code",
      "source": [
        "# Q3 what are the montly sales trends from 2002 to 2012\n",
        "data['TransactionDate'] = pd.to_datetime(data['TransactionDate'])\n",
        "\n",
        "data['Year'] = data['TransactionDate'].dt.year\n",
        "data['Month'] = data['TransactionDate'].dt.month\n",
        "\n",
        "sales_btw_2002_2012 = data[(data['Year'] >= 2002) & (data['Year'] <= 2012)]\n",
        "monthly_sales = sales_btw_2002_2012.groupby(['Year', 'Month'])['Qty'].sum().reset_index()\n",
        "monthly_sales['Date'] = pd.to_datetime(monthly_sales[['Year','Month']].assign(day=1))\n",
        "\n",
        "plt.figure(figsize=(10, 6))\n",
        "plt.plot(monthly_sales['Date'], monthly_sales['Qty'], marker='*', linestyle='-', color='red')\n",
        "plt.grid(True)\n",
        "plt.xlabel('Date')\n",
        "plt.ylabel('Quantity')\n",
        "plt.title('Monthly Sales Trends from 2002 to 2012')\n",
        "\n",
        "\n"
      ],
      "metadata": {
        "colab": {
          "base_uri": "https://localhost:8080/",
          "height": 581
        },
        "id": "Hr6lgu_3v0_0",
        "outputId": "832ac077-e8ab-4621-fd52-f2014f6e11d9"
      },
      "execution_count": null,
      "outputs": [
        {
          "output_type": "execute_result",
          "data": {
            "text/plain": [
              "Text(0.5, 1.0, 'Monthly Sales Trends from 2002 to 2012')"
            ]
          },
          "metadata": {},
          "execution_count": 48
        },
        {
          "output_type": "display_data",
          "data": {
            "text/plain": [
              "<Figure size 1000x600 with 1 Axes>"
            ],
            "image/png": "[encoded data removed]"
          },
          "metadata": {}
        }
      ]
    },
    {
      "cell_type": "code",
      "source": [
        "# Q4   what are the most effective marketing channels?\n",
        "marketing_channels = data.groupby('Channel')['Price'].sum().reset_index()\n",
        "marketing_channels = marketing_channels.sort_values(by='Price', ascending=False)\n",
        "\n",
        "print(marketing_channels)\n",
        "\n",
        "#Pie chart of most effective marketing channels\n",
        "plt.figure(figsize=(8, 8))\n",
        "plt.pie(marketing_channels['Price'], labels=marketing_channels['Channel'], autopct='%1.1f%%', startangle=140)\n",
        "plt.title('Most Effective Marketing Channels')\n",
        "plt.show()"
      ],
      "metadata": {
        "colab": {
          "base_uri": "https://localhost:8080/",
          "height": 872
        },
        "id": "By6KazpXWKRv",
        "outputId": "f4f6a352-09b6-4ba9-b7db-731a0b198815"
      },
      "execution_count": 139,
      "outputs": [
        {
          "output_type": "stream",
          "name": "stdout",
          "text": [
            "          Channel      Price\n",
            "7     SocialMedia  650392736\n",
            "9         Website  649297674\n",
            "5         Quality  647896846\n",
            "4      OnSiteDemo  647845154\n",
            "6        RoadShow  647329334\n",
            "3        Magazine  647040406\n",
            "1  CustomerReview  644770648\n",
            "2  InternetReview  643791193\n",
            "8      Television  642157240\n",
            "0        Brochure  638914845\n"
          ]
        },
        {
          "output_type": "display_data",
          "data": {
            "text/plain": [
              "<Figure size 800x800 with 1 Axes>"
            ],
            "image/png": "[encoded data removed]"
          },
          "metadata": {}
        }
      ]
    },
    {
      "cell_type": "code",
      "source": [
        "# Q which regions are driving the most sales?\n",
        "Region_with_high_sales_country = data.groupby('CountryName')['Price'].sum().reset_index()\n",
        "Region_with_high_sales_country = Region_with_high_sales_country.sort_values(by='Price', ascending=False).head(5)\n",
        "\n",
        "print(Region_with_high_sales_country)\n",
        "\n",
        "\n",
        "\n",
        "# Q which cities are driving the most sales?\n",
        "Region_with_high_sales_city = data.groupby('CityName')['Price'].sum().reset_index()\n",
        "Region_with_high_sales_city = Region_with_high_sales_city.sort_values(by='Price', ascending=False).head(5)\n",
        "\n",
        "print(Region_with_high_sales_city)\n",
        "\n",
        "\n",
        "#Pie chart of countries and cities taht driving the most sales!\n",
        "plt.figure(figsize=(10, 5))\n",
        "\n",
        "# Pie chart for countries\n",
        "plt.subplot(1, 2, 1)\n",
        "# Use Region_with_high_sales_country for the country data\n",
        "plt.pie(Region_with_high_sales_country['Price'], labels=Region_with_high_sales_country['CountryName'], autopct='%1.1f%%', startangle=140)\n",
        "plt.title('Countries Driving the Most Sales')\n",
        "plt.axis('equal')\n",
        "\n",
        "# Pie chart for cities\n",
        "plt.subplot(1, 2, 2)\n",
        "# Use Region_with_high_sales_city for the city data\n",
        "plt.pie(Region_with_high_sales_city['Price'], labels=Region_with_high_sales_city['CityName'], autopct='%1.1f%%', startangle=140)\n",
        "plt.title('Cities Driving the Most Sales')\n",
        "plt.axis('equal')\n",
        "\n",
        "plt.tight_layout()\n",
        "\n",
        "plt.subplots_adjust(top=0.8)\n",
        "\n",
        "plt.show()"
      ],
      "metadata": {
        "colab": {
          "base_uri": "https://localhost:8080/",
          "height": 658
        },
        "id": "lreaSdjpmeSF",
        "outputId": "7165bf1e-928d-4a52-9bed-a73801ed35e8"
      },
      "execution_count": 144,
      "outputs": [
        {
          "output_type": "stream",
          "name": "stdout",
          "text": [
            "   CountryName      Price\n",
            "34          US  697506179\n",
            "1    Australia  545437650\n",
            "12       India  312055952\n",
            "32         UAE  311026620\n",
            "4        China  310623034\n",
            "     CityName     Price\n",
            "45  Melbourne  79609705\n",
            "34     Kigali  79509927\n",
            "76      Tunis  79438303\n",
            "36    Kolkata  79181877\n",
            "73     Taipei  79054103\n"
          ]
        },
        {
          "output_type": "display_data",
          "data": {
            "text/plain": [
              "<Figure size 1000x500 with 2 Axes>"
            ],
            "image/png": "[encoded data removed]"
          },
          "metadata": {}
        }
      ]
    },
    {
      "cell_type": "code",
      "source": [
        "#  PRODUCT ANALYSIS\n",
        "\n",
        "# Q what are the most popular products\n",
        "most_popular_products = data.groupby('ProductKey')['Qty'].sum().sort_values(ascending=False).head(3)\n",
        "\n",
        "print(most_popular_products)\n",
        "\n",
        "sns.barplot(x=most_popular_products.index, y=most_popular_products.values, color='orange')\n",
        "plt.xlabel('Product')\n",
        "plt.ylabel('Quantity')\n",
        "plt.title('Most Popular Products')\n",
        "plt.show()\n"
      ],
      "metadata": {
        "colab": {
          "base_uri": "https://localhost:8080/",
          "height": 561
        },
        "id": "MA0H52ZIXcDE",
        "outputId": "f0ff2706-235f-44df-f56b-718c5103f8f9"
      },
      "execution_count": 117,
      "outputs": [
        {
          "output_type": "stream",
          "name": "stdout",
          "text": [
            "ProductKey\n",
            "RP-243    3544\n",
            "EM-693    3540\n",
            "DT-807    3535\n",
            "Name: Qty, dtype: int64\n"
          ]
        },
        {
          "output_type": "display_data",
          "data": {
            "text/plain": [
              "<Figure size 640x480 with 1 Axes>"
            ],
            "image/png": "[encoded data removed]"
          },
          "metadata": {}
        }
      ]
    },
    {
      "cell_type": "code",
      "source": [
        "# Q which products are trending?\n",
        "trending_products = data.groupby('ProductKey')['Qty'].sum().sort_values(ascending=False).head(3)\n",
        "\n",
        "print(trending_products)"
      ],
      "metadata": {
        "colab": {
          "base_uri": "https://localhost:8080/"
        },
        "id": "_3HJNW6EnPVB",
        "outputId": "e78abc8a-f44c-4b4f-f62d-562634eaf26a"
      },
      "execution_count": null,
      "outputs": [
        {
          "output_type": "stream",
          "name": "stdout",
          "text": [
            "ProductKey\n",
            "EM-693    3540\n",
            "WT-218    3519\n",
            "CT-721    3519\n",
            "Name: Qty, dtype: int32\n"
          ]
        }
      ]
    },
    {
      "cell_type": "code",
      "source": [
        "# Q which products have the highest margins?\n",
        "data['Hight_profit_Margin'] = data['Revenue'] - data['Cost']\n",
        "margin_by_product = data.groupby('ProductKey')['Hight_profit_Margin'].sum().sort_values(ascending=False).head(3)\n",
        "\n",
        "print(margin_by_product)"
      ],
      "metadata": {
        "colab": {
          "base_uri": "https://localhost:8080/"
        },
        "id": "rqmcCDBprPHL",
        "outputId": "b817b4e4-fda7-493e-f8c7-e561044376ff"
      },
      "execution_count": null,
      "outputs": [
        {
          "output_type": "stream",
          "name": "stdout",
          "text": [
            "ProductKey\n",
            "OR-895    41360486\n",
            "OR-889    29322590\n",
            "OR-896    26511780\n",
            "Name: Hight_profit_Margin, dtype: int64\n"
          ]
        }
      ]
    },
    {
      "cell_type": "code",
      "source": [
        "# Q5 which products are most likely to be repurchased?\n",
        "repurchased_products = data[data['CustomerKey'] == 1].groupby('ProductKey')['Qty'].sum().sort_values(ascending=False).head(3)\n",
        "\n",
        "print(repurchased_products)\n",
        "\n",
        "\n",
        "#visualize\n",
        "plt.bar(repurchased_products.index, repurchased_products.values, color='Green')\n",
        "plt.xlabel('Product')\n",
        "plt.ylabel('Quantity')\n",
        "plt.title('Most Likely to be Repurchased')\n",
        "plt.show()"
      ],
      "metadata": {
        "colab": {
          "base_uri": "https://localhost:8080/",
          "height": 559
        },
        "id": "s3dHR9cD8hPA",
        "outputId": "588aa68b-a7d7-4117-ab29-6b0a495ad5a5"
      },
      "execution_count": null,
      "outputs": [
        {
          "output_type": "stream",
          "name": "stdout",
          "text": [
            "ProductKey\n",
            "IB-404    11\n",
            "TB-245    10\n",
            "LC-201     9\n",
            "Name: Qty, dtype: int32\n"
          ]
        },
        {
          "output_type": "display_data",
          "data": {
            "text/plain": [
              "<Figure size 640x480 with 1 Axes>"
            ],
            "image/png": "[encoded data removed]"
          },
          "metadata": {}
        }
      ]
    },
    {
      "cell_type": "code",
      "source": [
        "# pie chart of which products are generating the most revenue?\n",
        "data['Revenue'] = data['Price'] * data['Qty']\n",
        "revenue_by_product = data.groupby('ProductKey')['Revenue'].sum().sort_values(ascending=False).head(3)\n",
        "\n",
        "plt.figure(figsize=(8, 8))\n",
        "plt.pie(revenue_by_product, labels=revenue_by_product.index, autopct='%1.1f%%', startangle=140)\n",
        "plt.title('Most Revenue Generating Products')\n",
        "plt.show()"
      ],
      "metadata": {
        "colab": {
          "base_uri": "https://localhost:8080/",
          "height": 675
        },
        "id": "RFmbuvshVnNR",
        "outputId": "8c4d6b43-a498-439e-b51e-304cbd45eedf"
      },
      "execution_count": 120,
      "outputs": [
        {
          "output_type": "display_data",
          "data": {
            "text/plain": [
              "<Figure size 800x800 with 1 Axes>"
            ],
            "image/png": "[encoded data removed]"
          },
          "metadata": {}
        }
      ]
    }
  ]
}